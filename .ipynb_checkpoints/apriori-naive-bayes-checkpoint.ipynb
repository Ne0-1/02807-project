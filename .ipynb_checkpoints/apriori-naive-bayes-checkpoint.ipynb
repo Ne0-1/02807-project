{
 "cells": [
  {
   "cell_type": "markdown",
   "id": "31fba003",
   "metadata": {},
   "source": [
    "# Spam detection: Apriori Algorithm together with naive bayes\n",
    "\n",
    "\n",
    "\n"
   ]
  },
  {
   "cell_type": "code",
   "execution_count": 95,
   "id": "258d1b45",
   "metadata": {},
   "outputs": [],
   "source": [
    "# importing modules\n",
    "\n",
    "import pandas as pd\n",
    "import numpy as np\n",
    "import math\n",
    "from sklearn.feature_extraction.text import CountVectorizer\n",
    "from mlxtend.frequent_patterns import apriori\n",
    "from sklearn.model_selection import RepeatedKFold\n",
    "from sklearn.model_selection import KFold \n",
    "from ast import literal_eval\n",
    "from tqdm import tqdm\n",
    "import mmh3\n",
    "\n",
    "\n",
    "\n",
    "\n",
    "\n",
    "seed = 42"
   ]
  },
  {
   "cell_type": "code",
   "execution_count": 85,
   "id": "1472ff5c",
   "metadata": {
    "scrolled": true
   },
   "outputs": [
    {
     "data": {
      "text/html": [
       "<div>\n",
       "<style scoped>\n",
       "    .dataframe tbody tr th:only-of-type {\n",
       "        vertical-align: middle;\n",
       "    }\n",
       "\n",
       "    .dataframe tbody tr th {\n",
       "        vertical-align: top;\n",
       "    }\n",
       "\n",
       "    .dataframe thead th {\n",
       "        text-align: right;\n",
       "    }\n",
       "</style>\n",
       "<table border=\"1\" class=\"dataframe\">\n",
       "  <thead>\n",
       "    <tr style=\"text-align: right;\">\n",
       "      <th></th>\n",
       "      <th>label</th>\n",
       "      <th>text</th>\n",
       "      <th>tokens</th>\n",
       "    </tr>\n",
       "  </thead>\n",
       "  <tbody>\n",
       "    <tr>\n",
       "      <th>0</th>\n",
       "      <td>ham</td>\n",
       "      <td>Go until jurong point, crazy.. Available only ...</td>\n",
       "      <td>['go', 'jurong', 'point', 'crazi', 'avail', 'b...</td>\n",
       "    </tr>\n",
       "    <tr>\n",
       "      <th>1</th>\n",
       "      <td>ham</td>\n",
       "      <td>Ok lar... Joking wif u oni...</td>\n",
       "      <td>['ok', 'lar', 'joke', 'wif', 'u', 'oni']</td>\n",
       "    </tr>\n",
       "    <tr>\n",
       "      <th>2</th>\n",
       "      <td>spam</td>\n",
       "      <td>Free entry in 2 a wkly comp to win FA Cup fina...</td>\n",
       "      <td>['free', 'entri', 'wkli', 'comp', 'win', 'fa',...</td>\n",
       "    </tr>\n",
       "    <tr>\n",
       "      <th>3</th>\n",
       "      <td>ham</td>\n",
       "      <td>U dun say so early hor... U c already then say...</td>\n",
       "      <td>['u', 'dun', 'say', 'earli', 'hor', 'u', 'c', ...</td>\n",
       "    </tr>\n",
       "    <tr>\n",
       "      <th>4</th>\n",
       "      <td>ham</td>\n",
       "      <td>Nah I don't think he goes to usf, he lives aro...</td>\n",
       "      <td>['nah', 'think', 'goe', 'usf', 'live', 'around...</td>\n",
       "    </tr>\n",
       "  </tbody>\n",
       "</table>\n",
       "</div>"
      ],
      "text/plain": [
       "  label                                               text  \\\n",
       "0   ham  Go until jurong point, crazy.. Available only ...   \n",
       "1   ham                      Ok lar... Joking wif u oni...   \n",
       "2  spam  Free entry in 2 a wkly comp to win FA Cup fina...   \n",
       "3   ham  U dun say so early hor... U c already then say...   \n",
       "4   ham  Nah I don't think he goes to usf, he lives aro...   \n",
       "\n",
       "                                              tokens  \n",
       "0  ['go', 'jurong', 'point', 'crazi', 'avail', 'b...  \n",
       "1           ['ok', 'lar', 'joke', 'wif', 'u', 'oni']  \n",
       "2  ['free', 'entri', 'wkli', 'comp', 'win', 'fa',...  \n",
       "3  ['u', 'dun', 'say', 'earli', 'hor', 'u', 'c', ...  \n",
       "4  ['nah', 'think', 'goe', 'usf', 'live', 'around...  "
      ]
     },
     "execution_count": 85,
     "metadata": {},
     "output_type": "execute_result"
    }
   ],
   "source": [
    "df = pd.read_csv('data/clean_spam.csv',encoding='ISO-8859-1')\n",
    "df.head()"
   ]
  },
  {
   "cell_type": "code",
   "execution_count": 86,
   "id": "d4d6a8b5",
   "metadata": {},
   "outputs": [],
   "source": [
    "\n",
    "# formatting\n",
    "df.tokens = df.tokens.apply(literal_eval)\n",
    "\n"
   ]
  },
  {
   "cell_type": "code",
   "execution_count": 160,
   "id": "e2e39008",
   "metadata": {},
   "outputs": [],
   "source": [
    "\n",
    "def apriori_for_binary(df, labels, minimum_support, look_up):\n",
    "    word_freq_dict = {}\n",
    "\n",
    "    # CHOOSE support and confidence\n",
    "\n",
    "    #minimum_support = [0.005, 0.03] # for 'ham' and 'spam' respectivly\n",
    "\n",
    "    # looping labels\n",
    "    for idx, y in enumerate(labels):\n",
    "        # filtering\n",
    "        filtered_df = df[df.label == y]\n",
    "        # generating corpus for vectorizer\n",
    "        corpus = []\n",
    "        for row in filtered_df[look_up]:\n",
    "            corpus.append(' '.join(row))\n",
    "        # vectorizing words\n",
    "        vectorizer = CountVectorizer()\n",
    "        X = vectorizer.fit_transform(corpus)\n",
    "        column_values = vectorizer.get_feature_names_out()\n",
    "        # generating dataframe\n",
    "        transformed_df = pd.DataFrame(data = X.toarray(), columns = column_values)\n",
    "\n",
    "        # performing a-priori\n",
    "        word_freqs = apriori(transformed_df.astype(bool), \n",
    "                            min_support=minimum_support[idx], \n",
    "                            use_colnames=True)\n",
    "        word_freqs.itemsets = word_freqs.itemsets.apply(lambda x: set(x)).astype(\"unicode\").apply(literal_eval)\n",
    "\n",
    "        word_freq_dict[y] = word_freqs\n",
    "    # word frequency dictionaries based on apriori for the two labels\n",
    "    return word_freq_dict"
   ]
  },
  {
   "cell_type": "code",
   "execution_count": 88,
   "id": "2b08c889",
   "metadata": {
    "scrolled": true
   },
   "outputs": [],
   "source": [
    "\n",
    "\n",
    "\n",
    "# using naive bayes\n",
    "def classify(x, word_freq_dict, labels):\n",
    "\n",
    "    #x = df.iloc[2]\n",
    "\n",
    "    # looping labels\n",
    "    output = [0]*len(labels) # output probabilities\n",
    "    \n",
    "    if len(labels) == 2:\n",
    "        combined = list(word_freq_dict[labels[0]].itemsets) + list(word_freq_dict[labels[1]].itemsets)\n",
    "    else:\n",
    "        # not implemented for non-binary\n",
    "        raise NotImplemented\n",
    "    \n",
    "    for idx, y in enumerate(labels):\n",
    "    #for idx, y in enumerate(['ham']):  \n",
    "        #prior = len(df[df.label == y])/len(df)\n",
    "        prior = len(word_freq_dict[y].itemsets)/len(combined)\n",
    "\n",
    "        # prior is added\n",
    "        #prob = np.log(prior)\n",
    "        prob=np.log(prior) \n",
    "\n",
    "        denominator = word_freq_dict[y].support.sum()\n",
    "\n",
    "        # Laplace estimator to avoid the zero\n",
    "        add = len(combined)\n",
    "\n",
    "        #for (index, word_freq) in word_freq_dict[y].iterrows():\n",
    "        # looping each wordset\n",
    "        for word_set in combined:\n",
    "            # if word set is a subset all the supported\n",
    "            if set(word_set).issubset(x):\n",
    "                # if word set not supported for current label\n",
    "                if word_set not in list(word_freq_dict[y].itemsets):\n",
    "                    # not squared to make it a negative contribution\n",
    "                    prob += np.log(1/ (denominator + add) ) # itemset not found, laplace\n",
    "                # supported by current label\n",
    "                else:\n",
    "                    row = word_freq_dict[y].loc[word_freq_dict[y]['itemsets'] == word_set]\n",
    "                    prob += np.log( ( (float(row.support)+1) / (denominator + add) ) )\n",
    "        output[idx] = prob\n",
    "    \n",
    "    prediction = labels[np.argmax(output)]\n",
    "    # predicted label\n",
    "    return prediction"
   ]
  },
  {
   "cell_type": "code",
   "execution_count": 81,
   "id": "60ed99b8",
   "metadata": {},
   "outputs": [
    {
     "name": "stderr",
     "output_type": "stream",
     "text": [
      "5it [00:13,  2.62s/it]"
     ]
    },
    {
     "name": "stdout",
     "output_type": "stream",
     "text": [
      "[0.9354260089686098, 0.9417040358744395, 0.9434470377019749, 0.9326750448833034, 0.926391382405745]\n"
     ]
    },
    {
     "name": "stderr",
     "output_type": "stream",
     "text": [
      "\n"
     ]
    }
   ],
   "source": [
    "\n",
    "# 20 % test\n",
    "kf = RepeatedKFold(n_splits=5, n_repeats=1, random_state=seed) \n",
    "\n",
    "# hyperparameters\n",
    "labels = list(np.unique(df.label)) # currently repeated\n",
    "\n",
    "minimum_support = [0.005, 0.03]\n",
    "\n",
    "scores = [] # to store accuracies\n",
    "\n",
    "for train_index, test_index in tqdm(kf.split(df)):\n",
    "    #X_train, X_test = df.tokens[train_index], df.tokens[test_index] \n",
    "    #y_train, y_test = df.label[train_index], df.label[test_index]\n",
    "    #pd.concat([X_train, y_train],axis=1)\n",
    "    \n",
    "    df_train = df.loc[train_index]\n",
    "    \n",
    "    df_test = df.loc[test_index]\n",
    "    \n",
    "    # training?\n",
    "    word_freq_dict =  apriori_for_binary(df_train, labels, minimum_support, 'tokens')\n",
    "    \n",
    "    #for \n",
    "    # classifying using the naive bayes\n",
    "    correct = 0\n",
    "    for idx, x in df_test.iterrows():\n",
    "        # by x.tokens we remove the 'label' data\n",
    "        pred = classify(x.tokens, word_freq_dict, labels)\n",
    "        correct += int(pred==x.label)\n",
    "    \n",
    "    scores.append(correct / (len(df_test)))\n",
    "\n",
    "print(scores)"
   ]
  },
  {
   "cell_type": "markdown",
   "id": "f33e0151",
   "metadata": {},
   "source": [
    "# Shingles"
   ]
  },
  {
   "cell_type": "code",
   "execution_count": 174,
   "id": "4c704168",
   "metadata": {},
   "outputs": [],
   "source": [
    "# create shingle function\n",
    "def shingles(string:str,q:int):\n",
    "    output = set()\n",
    "    for i in range(len(string)+1):\n",
    "        if i < q:\n",
    "            pass\n",
    "        else:\n",
    "            output.add(' '.join(string[i-q:i]))\n",
    "    return output\n",
    "\n",
    "#create listhash function\n",
    "def listhash(l,seeds):\n",
    "    vals = []\n",
    "\n",
    "    for e in l:\n",
    "        val = 0\n",
    "        for seed in seeds:\n",
    "            val = val ^ mmh3.hash(e, seed)\n",
    "        vals.append(str(val))\n",
    "    return vals\n",
    "\n",
    "#create signatures function\n",
    "def signatures(docs, q=9, k=20):\n",
    "    sign = {}\n",
    "    for key, value in docs.items():\n",
    "        sign[key] = listhash(shingles(value,q=q),np.arange(k))\n",
    "    return sign\n",
    "\n",
    "    \n",
    "#create document sim function\n",
    "def similarity(docs:dict):\n",
    "    output = np.zeros((len(docs.keys()),len(docs.keys())))\n",
    "    for key1, value1 in docs.items():\n",
    "        for key2, value2 in docs.items():\n",
    "            if key1 == key2:\n",
    "                pass\n",
    "            else:\n",
    "                jac_value = jaccard(value1,value2)\n",
    "                output[key1,key2] = jac_value\n",
    "    return output\n",
    "            "
   ]
  },
  {
   "cell_type": "code",
   "execution_count": 175,
   "id": "3534fe7c",
   "metadata": {},
   "outputs": [],
   "source": [
    "#determine q and k\n",
    "q = 5 #number of characters in each shingle\n",
    "k = 20 #number of hashes per shingle\n",
    "\n",
    "\n",
    "#create signatures for emails (we keep count based on index in emails)\n",
    "df_signatures = {df.index[i]: listhash(shingles(df['text'][i], q=q), np.arange(k)) for i in df.index}\n"
   ]
  },
  {
   "cell_type": "code",
   "execution_count": 225,
   "id": "79139a9c",
   "metadata": {},
   "outputs": [
    {
     "name": "stderr",
     "output_type": "stream",
     "text": [
      "5it [00:27,  5.55s/it]"
     ]
    },
    {
     "name": "stdout",
     "output_type": "stream",
     "text": [
      "[0.8654708520179372, 0.8663677130044843, 0.8680430879712747, 0.8707360861759426, 0.8590664272890485]\n"
     ]
    },
    {
     "name": "stderr",
     "output_type": "stream",
     "text": [
      "\n"
     ]
    }
   ],
   "source": [
    "\n",
    "# 20 % test\n",
    "kf = RepeatedKFold(n_splits=5, n_repeats=1, random_state=seed) \n",
    "\n",
    "# hyperparameters\n",
    "labels = list(np.unique(df.label)) # currently repeated\n",
    "\n",
    "minimum_support = [0.025, 0.07]\n",
    "\n",
    "scores = [] # to store accuracies\n",
    "\n",
    "for train_index, test_index in tqdm(kf.split(df)):\n",
    "    #X_train, X_test = df.tokens[train_index], df.tokens[test_index] \n",
    "    #y_train, y_test = df.label[train_index], df.label[test_index]\n",
    "    #pd.concat([X_train, y_train],axis=1)\n",
    "    \n",
    "    df_train = df.loc[train_index]\n",
    "    \n",
    "    df_test = df.loc[test_index]\n",
    "    \n",
    "    # training?\n",
    "    word_freq_dict =  apriori_for_binary(df_train, labels, minimum_support, 'signatures')\n",
    "    \n",
    "    #for \n",
    "    # classifying using the naive bayes\n",
    "    correct = 0\n",
    "    for idx, x in df_test.iterrows():\n",
    "        # by x.tokens we remove the 'label' data\n",
    "        pred = classify(x.tokens, word_freq_dict, labels)\n",
    "        \n",
    "        correct += int(pred==x.label)\n",
    "    \n",
    "    scores.append(correct / (len(df_test)))\n",
    "\n",
    "print(scores)"
   ]
  },
  {
   "cell_type": "markdown",
   "id": "20ba962d",
   "metadata": {},
   "source": [
    "comments\n",
    "- since the support needs to be lower, it could indicate that hashing finds more distinct, and therefore i could be necessary to include more in the frequent itemsets."
   ]
  },
  {
   "cell_type": "code",
   "execution_count": null,
   "id": "81676b04",
   "metadata": {},
   "outputs": [],
   "source": []
  },
  {
   "cell_type": "code",
   "execution_count": null,
   "id": "2178c9d1",
   "metadata": {},
   "outputs": [],
   "source": []
  },
  {
   "cell_type": "code",
   "execution_count": null,
   "id": "3cc80e2c",
   "metadata": {},
   "outputs": [],
   "source": []
  }
 ],
 "metadata": {
  "kernelspec": {
   "display_name": "Python 3 (ipykernel)",
   "language": "python",
   "name": "python3"
  },
  "language_info": {
   "codemirror_mode": {
    "name": "ipython",
    "version": 3
   },
   "file_extension": ".py",
   "mimetype": "text/x-python",
   "name": "python",
   "nbconvert_exporter": "python",
   "pygments_lexer": "ipython3",
   "version": "3.8.12"
  }
 },
 "nbformat": 4,
 "nbformat_minor": 5
}
