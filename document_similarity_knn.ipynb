{
 "cells": [
  {
   "cell_type": "code",
   "execution_count": 3,
   "id": "f2df5a63",
   "metadata": {},
   "outputs": [],
   "source": [
    "#Import libraries\n",
    "import sys\n",
    "import os\n",
    "import pandas as pd\n",
    "import mmh3\n",
    "import numpy as np"
   ]
  },
  {
   "cell_type": "markdown",
   "id": "66e51750",
   "metadata": {},
   "source": [
    "We start by defining the necessary functions to get document similarity (week 5 of course exercises)."
   ]
  },
  {
   "cell_type": "code",
   "execution_count": 76,
   "id": "674c8fb9",
   "metadata": {},
   "outputs": [],
   "source": [
    "# create shingle function\n",
    "def shingles(string:str,q:int):\n",
    "    output = set()\n",
    "    for i in range(len(string)+1):\n",
    "        if i < q:\n",
    "            pass\n",
    "        else:\n",
    "            output.add(' '.join(string[i-q:i]))\n",
    "    return output\n",
    "\n",
    "#create listhash function\n",
    "def listhash(l,seeds):\n",
    "    vals = set()\n",
    "\n",
    "    for e in l:\n",
    "        val = 0\n",
    "        for seed in seeds:\n",
    "            val = val ^ mmh3.hash(e, seed)\n",
    "        vals.add(val)\n",
    "    return vals\n",
    "\n",
    "#create signatures function\n",
    "def signatures(docs, q=9, k=20):\n",
    "    sign = {}\n",
    "    for key, value in docs.items():\n",
    "        sign[key] = listhash(shingles(value,q=q),np.arange(k))\n",
    "    return sign\n",
    "\n",
    "#create jaccard sim function\n",
    "def jaccard(doc1, doc2):\n",
    "    doc1=set(doc1)\n",
    "    doc2=set(doc2)\n",
    "    intersect = doc1.intersection(doc2)\n",
    "    union = doc1.union(doc2)\n",
    "    if len(union) != 0:\n",
    "        return len(intersect) / len(union)\n",
    "    else:\n",
    "        return 0\n",
    "    \n",
    "#create document sim function\n",
    "def similarity(docs:dict):\n",
    "    output = np.zeros((len(docs.keys()),len(docs.keys())))\n",
    "    for key1, value1 in docs.items():\n",
    "        for key2, value2 in docs.items():\n",
    "            if key1 == key2:\n",
    "                pass\n",
    "            else:\n",
    "                jac_value = jaccard(value1,value2)\n",
    "                output[key1,key2] = jac_value\n",
    "    return output\n",
    "            "
   ]
  },
  {
   "cell_type": "markdown",
   "id": "66bd186d",
   "metadata": {},
   "source": [
    "Load email data!"
   ]
  },
  {
   "cell_type": "code",
   "execution_count": 275,
   "id": "241e9d4f",
   "metadata": {},
   "outputs": [],
   "source": [
    "emails = pd.read_csv('data/clean_spam.csv', encoding='latin')\n",
    "\n",
    "#determine q and k\n",
    "q = 5 #number of characters in each shingle\n",
    "k = 20 #number of hashes per shingle"
   ]
  },
  {
   "cell_type": "code",
   "execution_count": 276,
   "id": "635eaf57",
   "metadata": {},
   "outputs": [],
   "source": [
    "#create signatures for emails (we keep count based on index in emails)\n",
    "email_signatures = {emails.index[i]: listhash(shingles(emails['text'][i], q=q),np.arange(k)) for i in emails.index}"
   ]
  },
  {
   "cell_type": "code",
   "execution_count": 277,
   "id": "6189afa6",
   "metadata": {},
   "outputs": [],
   "source": [
    "#create signatures for emails\n",
    "email_similarity = similarity(email_signatures)"
   ]
  },
  {
   "cell_type": "code",
   "execution_count": 396,
   "id": "15c7d05b",
   "metadata": {},
   "outputs": [],
   "source": [
    "def weighted_knn(x, y_train,test_idx,low,high,k_neighbours=5):\n",
    "    y_test = []\n",
    "    mask = np.ones(len(x),bool)\n",
    "    mask[y_test] = False\n",
    "    for i in test_idx:\n",
    "        ind = []\n",
    "        temp = np.argpartition(x[i], -k_neighbours)[-k_neighbours:]\n",
    "        temp = np.flip(temp)\n",
    "        for idx in temp:\n",
    "            if idx>=high or idx < low:\n",
    "                ind.append(idx)\n",
    "        topk = x[i][ind]\n",
    "        labels = {j: y_train[j] for j in ind}\n",
    "        ham = 0\n",
    "        spam = 0\n",
    "        for key, value in labels.items():\n",
    "            if value == 'ham':\n",
    "                ham += x[i][key]\n",
    "            if value == 'spam':\n",
    "                spam += x[i][key]\n",
    "        if ham>spam:\n",
    "            y_test.append('ham')\n",
    "        if ham == spam:\n",
    "            y_test.append('ham')\n",
    "        if ham<spam:\n",
    "            y_test.append('spam')\n",
    "    return y_test\n"
   ]
  },
  {
   "cell_type": "code",
   "execution_count": 403,
   "id": "cba68699",
   "metadata": {},
   "outputs": [
    {
     "name": "stdout",
     "output_type": "stream",
     "text": [
      "Average f1-score: 0.94\n"
     ]
    }
   ],
   "source": [
    "from sklearn.metrics import f1_score\n",
    "kfold=5\n",
    "f1_scores = []\n",
    "test_set_percent = ((len(emails)/kfold)/len(emails))\n",
    "test_size = round(test_set_percent*len(emails))\n",
    "former_test_idx = 0\n",
    "for i in range(kfold):\n",
    "    y_test = emails['label'][former_test_idx:(i+1)*test_size]\n",
    "    y_idx = y_test.index\n",
    "    mask = np.ones(len(emails), bool)\n",
    "    mask[y_idx] = False\n",
    "    y_train = emails['label'][mask]\n",
    "    y_pred = weighted_knn(email_similarity,y_train,y_idx,former_test_idx,(i+1)*test_size,5)\n",
    "    f1_scores.append(f1_score(y_test,y_pred, pos_label='spam'))\n",
    "    former_test_idx += test_size\n",
    "print(f'Average f1-score: {round(np.mean(f1_scores),2)}')"
   ]
  },
  {
   "cell_type": "code",
   "execution_count": null,
   "id": "04f13dc3",
   "metadata": {},
   "outputs": [],
   "source": []
  }
 ],
 "metadata": {
  "kernelspec": {
   "display_name": "Python 3",
   "language": "python",
   "name": "python3"
  },
  "language_info": {
   "codemirror_mode": {
    "name": "ipython",
    "version": 3
   },
   "file_extension": ".py",
   "mimetype": "text/x-python",
   "name": "python",
   "nbconvert_exporter": "python",
   "pygments_lexer": "ipython3",
   "version": "3.8.8"
  }
 },
 "nbformat": 4,
 "nbformat_minor": 5
}
