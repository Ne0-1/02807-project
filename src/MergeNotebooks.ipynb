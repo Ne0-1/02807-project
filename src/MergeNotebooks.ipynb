{
 "cells": [
  {
   "cell_type": "code",
   "execution_count": 6,
   "id": "bcec9e5b",
   "metadata": {},
   "outputs": [],
   "source": [
    "import nbformat\n",
    "\n",
    "# Reading the notebooks\n",
    "first_notebook = nbformat.read('Phillip.ipynb', 4)\n",
    "second_notebook = nbformat.read('../models/supervised.ipynb', 4)\n",
    "third_notebook = nbformat.read('clustering.ipynb', 4)\n",
    "\n",
    "\n",
    "# Creating a new notebook\n",
    "final_notebook = nbformat.v4.new_notebook(metadata=first_notebook.metadata)\n",
    "\n",
    "# Concatenating the notebooks\n",
    "final_notebook.cells = first_notebook.cells + second_notebook.cells + third_notebook.cells\n",
    "\n",
    "# Saving the new notebook \n",
    "nbformat.write(final_notebook, 'explainer.ipynb')\n"
   ]
  },
  {
   "cell_type": "code",
   "execution_count": null,
   "id": "b083f266",
   "metadata": {},
   "outputs": [],
   "source": []
  }
 ],
 "metadata": {
  "kernelspec": {
   "display_name": "Python 3",
   "language": "python",
   "name": "python3"
  },
  "language_info": {
   "codemirror_mode": {
    "name": "ipython",
    "version": 3
   },
   "file_extension": ".py",
   "mimetype": "text/x-python",
   "name": "python",
   "nbconvert_exporter": "python",
   "pygments_lexer": "ipython3",
   "version": "3.8.7"
  }
 },
 "nbformat": 4,
 "nbformat_minor": 5
}
