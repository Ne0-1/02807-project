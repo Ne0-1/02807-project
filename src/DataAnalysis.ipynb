{
 "cells": [
  {
   "cell_type": "code",
   "execution_count": 1,
   "id": "d87c1d17",
   "metadata": {},
   "outputs": [
    {
     "name": "stdout",
     "output_type": "stream",
     "text": [
      "Requirement already satisfied: pandas==1.2.1 in /Library/Frameworks/Python.framework/Versions/3.8/lib/python3.8/site-packages (1.2.1)\n",
      "Requirement already satisfied: pytz>=2017.3 in /Library/Frameworks/Python.framework/Versions/3.8/lib/python3.8/site-packages (from pandas==1.2.1) (2022.1)\n",
      "Requirement already satisfied: python-dateutil>=2.7.3 in /Library/Frameworks/Python.framework/Versions/3.8/lib/python3.8/site-packages (from pandas==1.2.1) (2.8.2)\n",
      "Requirement already satisfied: numpy>=1.16.5 in /Library/Frameworks/Python.framework/Versions/3.8/lib/python3.8/site-packages (from pandas==1.2.1) (1.22.4)\n",
      "Requirement already satisfied: six>=1.5 in /Library/Frameworks/Python.framework/Versions/3.8/lib/python3.8/site-packages (from python-dateutil>=2.7.3->pandas==1.2.1) (1.16.0)\n",
      "\u001b[33mWARNING: You are using pip version 22.0.4; however, version 22.3.1 is available.\n",
      "You should consider upgrading via the '/Library/Frameworks/Python.framework/Versions/3.8/bin/python3.8 -m pip install --upgrade pip' command.\u001b[0m\u001b[33m\n",
      "\u001b[0m\u001b[33mWARNING: You are using pip version 22.0.4; however, version 22.3.1 is available.\n",
      "You should consider upgrading via the '/Library/Frameworks/Python.framework/Versions/3.8/bin/python3.8 -m pip install --upgrade pip' command.\u001b[0m\u001b[33m\n",
      "\u001b[0m"
     ]
    }
   ],
   "source": [
    "\n",
    "import sys\n",
    "# !conda install --yes --prefix {sys.prefix} pandas==1.2.1\n",
    "!{sys.executable} -m pip install pandas==1.2.1\n",
    "!{sys.executable} -m pip install tqdm>=4.6.3\n",
    "\n"
   ]
  },
  {
   "cell_type": "code",
   "execution_count": 28,
   "id": "54f625c2",
   "metadata": {},
   "outputs": [],
   "source": [
    "#imports\n",
    "import pandas as pd\n",
    "import numpy as np\n",
    "import nltk\n",
    "import re\n",
    "import os\n",
    "from tqdm import tqdm, tqdm_pandas\n",
    "#tqdm_pandas(tqdm())\n",
    "from nltk import word_tokenize\n",
    "from nltk.corpus import stopwords\n",
    "from nltk.tokenize import word_tokenize\n",
    "\n",
    "import matplotlib.pyplot as plt \n",
    "import matplotlib as mpl\n",
    "\n",
    "def setup_mpl():\n",
    "    mpl.rcParams['font.family'] = 'Times New Roman'\n",
    "    return\n",
    "setup_mpl()"
   ]
  },
  {
   "cell_type": "markdown",
   "id": "4358f4af",
   "metadata": {},
   "source": [
    "# Text preprocessing"
   ]
  },
  {
   "cell_type": "code",
   "execution_count": 29,
   "id": "95206e1c",
   "metadata": {},
   "outputs": [],
   "source": [
    "# Preprocessing function\n",
    "\n",
    "porter = nltk.PorterStemmer()\n",
    "lancaster = nltk.LancasterStemmer()\n",
    "\n",
    "# Keep numbers / Remove numbers / Substitute numbers with token\n",
    "# Keep URL / Remove URL / Substitute URL with token\n",
    "\n",
    "def preprocess(text):\n",
    "    #Common english stop words\n",
    "    stop_words = set(stopwords.words('english'))\n",
    "    # Substituting urls with \n",
    "    url_regex = r'(https?:\\/\\/(?:www\\.|(?!www))[a-zA-Z0-9][a-zA-Z0-9-]+[a-zA-Z0-9]\\.[^\\s]{2,}|www\\.[a-zA-Z0-9][a-zA-Z0-9-]+[a-zA-Z0-9]\\.[^\\s]{2,}|https?:\\/\\/(?:www\\.|(?!www))[a-zA-Z0-9]+\\.[^\\s]{2,}|www\\.[a-zA-Z0-9]+\\.[^\\s]{2,})'\n",
    "    text = re.sub(r'http\\S+', '#URL#', str(text)) # Maybe change to single-character-symbol -> shingles\n",
    "    #Tokenize using nltk\n",
    "    word_tokens = word_tokenize(text.lower())\n",
    "    #removing none letter characters and stop words\n",
    "    filtered_sentence = [w for w in word_tokens if w not in stop_words and w.isalpha()]\n",
    "    #Conduct stemming\n",
    "    processed_text = [porter.stem(t) for t in filtered_sentence]\n",
    "    return processed_text"
   ]
  },
  {
   "cell_type": "markdown",
   "id": "c57c0765",
   "metadata": {},
   "source": [
    "### SMS spam: "
   ]
  },
  {
   "cell_type": "code",
   "execution_count": 30,
   "id": "65709702",
   "metadata": {},
   "outputs": [],
   "source": [
    "PATH = \"../data/regular/spam.csv\"\n",
    "SMS = pd.read_csv(PATH)[['v1','v2']]\n",
    "SMS = SMS.rename(columns={'v1': 'label', 'v2': 'text'})\n",
    "\n",
    "label = SMS['label'].values\n",
    "text = SMS['text'].values"
   ]
  },
  {
   "cell_type": "code",
   "execution_count": 41,
   "id": "3608ae50",
   "metadata": {},
   "outputs": [
    {
     "name": "stderr",
     "output_type": "stream",
     "text": [
      "100%|██████████| 5551/5551 [00:03<00:00, 1829.79it/s]\n",
      "100%|██████████| 5551/5551 [00:00<00:00, 1194529.86it/s]\n",
      "100%|██████████| 5551/5551 [00:00<00:00, 1972598.62it/s]\n"
     ]
    }
   ],
   "source": [
    "SMS['tokens'] = [preprocess(x) for x in tqdm(SMS['text'])]\n",
    "SMS['str_tokens'] = [' '.join(x) for x in tqdm(SMS['tokens'])]\n",
    "# Removing rows of emtpty tokens\n",
    "SMS = SMS[SMS['tokens'].astype(bool)]\n",
    "binary_dict = {'ham': 0, 'spam': 1}\n",
    "SMS['binary'] = [binary_dict[x] for x in tqdm(SMS['label'])]\n",
    "SMS.to_csv('../data/clean/clean_spam.csv', index=False)\n"
   ]
  },
  {
   "cell_type": "code",
   "execution_count": null,
   "id": "8de36270",
   "metadata": {},
   "outputs": [],
   "source": []
  },
  {
   "cell_type": "markdown",
   "id": "ce33546a",
   "metadata": {},
   "source": [
    "### Email spam"
   ]
  },
  {
   "cell_type": "code",
   "execution_count": 32,
   "id": "db8e9add",
   "metadata": {},
   "outputs": [],
   "source": [
    "PATH = \"../data/regular/completeSpamAssassin.csv\"\n",
    "EMAIL = pd.read_csv(PATH, index_col = 'Unnamed: 0')\n",
    "\n",
    "EMAIL.rename(columns = {'Label':'label', 'Body':'text'}, inplace = True)\n",
    "\n",
    "EMAIL['label'] = EMAIL['label'].replace(0, 'ham')\n",
    "EMAIL['label'] = EMAIL['label'].replace(1, 'spam')\n",
    "\n",
    "# Removing 'empty' rows\n",
    "EMAIL.text = np.where(EMAIL.text.isin(['empty']), np.nan, EMAIL.text)\n",
    "EMAIL = EMAIL.dropna().reset_index().drop(columns=['index'])"
   ]
  },
  {
   "cell_type": "code",
   "execution_count": 44,
   "id": "1d6a368a",
   "metadata": {},
   "outputs": [
    {
     "name": "stderr",
     "output_type": "stream",
     "text": [
      "100%|██████████| 5507/5507 [00:28<00:00, 195.91it/s]\n",
      "100%|██████████| 5507/5507 [00:00<00:00, 208984.68it/s]\n",
      "100%|██████████| 5507/5507 [00:00<00:00, 1966292.00it/s]\n"
     ]
    }
   ],
   "source": [
    "EMAIL['tokens'] = [preprocess(x) for x in tqdm(EMAIL['text'])]\n",
    "EMAIL['str_tokens'] = [' '.join(x) for x in tqdm(EMAIL['tokens'])]\n",
    "EMAIL = EMAIL[EMAIL['tokens'].astype(bool)]\n",
    "binary_dict = {'ham': 0, 'spam': 1}\n",
    "EMAIL['binary'] = [binary_dict[x] for x in tqdm(EMAIL['label'])]\n",
    "EMAIL.to_csv('../data/clean/clean_completeSpamAssassin.csv', index=False)"
   ]
  },
  {
   "cell_type": "code",
   "execution_count": 43,
   "id": "dba8089c",
   "metadata": {},
   "outputs": [
    {
     "data": {
      "text/html": [
       "<div>\n",
       "<style scoped>\n",
       "    .dataframe tbody tr th:only-of-type {\n",
       "        vertical-align: middle;\n",
       "    }\n",
       "\n",
       "    .dataframe tbody tr th {\n",
       "        vertical-align: top;\n",
       "    }\n",
       "\n",
       "    .dataframe thead th {\n",
       "        text-align: right;\n",
       "    }\n",
       "</style>\n",
       "<table border=\"1\" class=\"dataframe\">\n",
       "  <thead>\n",
       "    <tr style=\"text-align: right;\">\n",
       "      <th></th>\n",
       "      <th>text</th>\n",
       "      <th>label</th>\n",
       "      <th>tokens</th>\n",
       "      <th>str_tokens</th>\n",
       "    </tr>\n",
       "  </thead>\n",
       "  <tbody>\n",
       "    <tr>\n",
       "      <th>0</th>\n",
       "      <td>\\nSave up to 70% on Life Insurance.\\nWhy Spend...</td>\n",
       "      <td>spam</td>\n",
       "      <td>[save, life, insur, spend, life, quot, save, e...</td>\n",
       "      <td>save life insur spend life quot save ensur fam...</td>\n",
       "    </tr>\n",
       "    <tr>\n",
       "      <th>1</th>\n",
       "      <td>1) Fight The Risk of Cancer!\\nhttp://www.adcli...</td>\n",
       "      <td>spam</td>\n",
       "      <td>[fight, risk, cancer, url, slim, guarante, los...</td>\n",
       "      <td>fight risk cancer url slim guarante lose lb da...</td>\n",
       "    </tr>\n",
       "    <tr>\n",
       "      <th>2</th>\n",
       "      <td>1) Fight The Risk of Cancer!\\nhttp://www.adcli...</td>\n",
       "      <td>spam</td>\n",
       "      <td>[fight, risk, cancer, url, slim, guarante, los...</td>\n",
       "      <td>fight risk cancer url slim guarante lose lb da...</td>\n",
       "    </tr>\n",
       "    <tr>\n",
       "      <th>3</th>\n",
       "      <td>##############################################...</td>\n",
       "      <td>spam</td>\n",
       "      <td>[adult, club, offer, free, membership, instant...</td>\n",
       "      <td>adult club offer free membership instant acces...</td>\n",
       "    </tr>\n",
       "    <tr>\n",
       "      <th>4</th>\n",
       "      <td>I thought you might like these:\\n1) Slim Down ...</td>\n",
       "      <td>spam</td>\n",
       "      <td>[thought, might, like, slim, guarante, lose, l...</td>\n",
       "      <td>thought might like slim guarante lose lb day u...</td>\n",
       "    </tr>\n",
       "    <tr>\n",
       "      <th>...</th>\n",
       "      <td>...</td>\n",
       "      <td>...</td>\n",
       "      <td>...</td>\n",
       "      <td>...</td>\n",
       "    </tr>\n",
       "    <tr>\n",
       "      <th>5507</th>\n",
       "      <td>----------------------------------------------...</td>\n",
       "      <td>ham</td>\n",
       "      <td>[isilo, tm, palm, os, pocket, pc, window, ente...</td>\n",
       "      <td>isilo tm palm os pocket pc window enter isilo ...</td>\n",
       "    </tr>\n",
       "    <tr>\n",
       "      <th>5508</th>\n",
       "      <td>EFFector       Vol. 15, No. 35       November ...</td>\n",
       "      <td>ham</td>\n",
       "      <td>[effector, vol, novemb, ren, public, electron,...</td>\n",
       "      <td>effector vol novemb ren public electron fronti...</td>\n",
       "    </tr>\n",
       "    <tr>\n",
       "      <th>5509</th>\n",
       "      <td>\\nWe have extended our Free seat sale until Th...</td>\n",
       "      <td>ham</td>\n",
       "      <td>[extend, free, seat, sale, thursday, novemb, d...</td>\n",
       "      <td>extend free seat sale thursday novemb detail s...</td>\n",
       "    </tr>\n",
       "    <tr>\n",
       "      <th>5510</th>\n",
       "      <td>___           ___           ...</td>\n",
       "      <td>ham</td>\n",
       "      <td>[insignific, matter, heavili, overemphasis, hu...</td>\n",
       "      <td>insignific matter heavili overemphasis hugh mt...</td>\n",
       "    </tr>\n",
       "    <tr>\n",
       "      <th>5511</th>\n",
       "      <td>IN THIS ISSUE:01. Readers write\\n02. Extension...</td>\n",
       "      <td>ham</td>\n",
       "      <td>[reader, write, extens, search, dumb, messag, ...</td>\n",
       "      <td>reader write extens search dumb messag revisit...</td>\n",
       "    </tr>\n",
       "  </tbody>\n",
       "</table>\n",
       "<p>5507 rows × 4 columns</p>\n",
       "</div>"
      ],
      "text/plain": [
       "                                                   text label  \\\n",
       "0     \\nSave up to 70% on Life Insurance.\\nWhy Spend...  spam   \n",
       "1     1) Fight The Risk of Cancer!\\nhttp://www.adcli...  spam   \n",
       "2     1) Fight The Risk of Cancer!\\nhttp://www.adcli...  spam   \n",
       "3     ##############################################...  spam   \n",
       "4     I thought you might like these:\\n1) Slim Down ...  spam   \n",
       "...                                                 ...   ...   \n",
       "5507  ----------------------------------------------...   ham   \n",
       "5508  EFFector       Vol. 15, No. 35       November ...   ham   \n",
       "5509  \\nWe have extended our Free seat sale until Th...   ham   \n",
       "5510                    ___           ___           ...   ham   \n",
       "5511  IN THIS ISSUE:01. Readers write\\n02. Extension...   ham   \n",
       "\n",
       "                                                 tokens  \\\n",
       "0     [save, life, insur, spend, life, quot, save, e...   \n",
       "1     [fight, risk, cancer, url, slim, guarante, los...   \n",
       "2     [fight, risk, cancer, url, slim, guarante, los...   \n",
       "3     [adult, club, offer, free, membership, instant...   \n",
       "4     [thought, might, like, slim, guarante, lose, l...   \n",
       "...                                                 ...   \n",
       "5507  [isilo, tm, palm, os, pocket, pc, window, ente...   \n",
       "5508  [effector, vol, novemb, ren, public, electron,...   \n",
       "5509  [extend, free, seat, sale, thursday, novemb, d...   \n",
       "5510  [insignific, matter, heavili, overemphasis, hu...   \n",
       "5511  [reader, write, extens, search, dumb, messag, ...   \n",
       "\n",
       "                                             str_tokens  \n",
       "0     save life insur spend life quot save ensur fam...  \n",
       "1     fight risk cancer url slim guarante lose lb da...  \n",
       "2     fight risk cancer url slim guarante lose lb da...  \n",
       "3     adult club offer free membership instant acces...  \n",
       "4     thought might like slim guarante lose lb day u...  \n",
       "...                                                 ...  \n",
       "5507  isilo tm palm os pocket pc window enter isilo ...  \n",
       "5508  effector vol novemb ren public electron fronti...  \n",
       "5509  extend free seat sale thursday novemb detail s...  \n",
       "5510  insignific matter heavili overemphasis hugh mt...  \n",
       "5511  reader write extens search dumb messag revisit...  \n",
       "\n",
       "[5507 rows x 4 columns]"
      ]
     },
     "execution_count": 43,
     "metadata": {},
     "output_type": "execute_result"
    }
   ],
   "source": [
    "EMAIL"
   ]
  },
  {
   "cell_type": "markdown",
   "id": "4d97d878",
   "metadata": {},
   "source": [
    "## Job postings"
   ]
  },
  {
   "cell_type": "code",
   "execution_count": 35,
   "id": "67e7a4b1",
   "metadata": {},
   "outputs": [
    {
     "data": {
      "text/html": [
       "<div>\n",
       "<style scoped>\n",
       "    .dataframe tbody tr th:only-of-type {\n",
       "        vertical-align: middle;\n",
       "    }\n",
       "\n",
       "    .dataframe tbody tr th {\n",
       "        vertical-align: top;\n",
       "    }\n",
       "\n",
       "    .dataframe thead th {\n",
       "        text-align: right;\n",
       "    }\n",
       "</style>\n",
       "<table border=\"1\" class=\"dataframe\">\n",
       "  <thead>\n",
       "    <tr style=\"text-align: right;\">\n",
       "      <th></th>\n",
       "      <th>label</th>\n",
       "      <th>text</th>\n",
       "    </tr>\n",
       "  </thead>\n",
       "  <tbody>\n",
       "    <tr>\n",
       "      <th>0</th>\n",
       "      <td>fraudulent</td>\n",
       "      <td>We're Food52, and we've created a groundbreaki...</td>\n",
       "    </tr>\n",
       "    <tr>\n",
       "      <th>1</th>\n",
       "      <td>fraudulent</td>\n",
       "      <td>90 Seconds, the worlds Cloud Video Production ...</td>\n",
       "    </tr>\n",
       "    <tr>\n",
       "      <th>2</th>\n",
       "      <td>fraudulent</td>\n",
       "      <td>Valor Services provides Workforce Solutions th...</td>\n",
       "    </tr>\n",
       "    <tr>\n",
       "      <th>3</th>\n",
       "      <td>fraudulent</td>\n",
       "      <td>Our passion for improving quality of life thro...</td>\n",
       "    </tr>\n",
       "    <tr>\n",
       "      <th>4</th>\n",
       "      <td>fraudulent</td>\n",
       "      <td>SpotSource Solutions LLC is a Global Human Cap...</td>\n",
       "    </tr>\n",
       "    <tr>\n",
       "      <th>...</th>\n",
       "      <td>...</td>\n",
       "      <td>...</td>\n",
       "    </tr>\n",
       "    <tr>\n",
       "      <th>17872</th>\n",
       "      <td>fraudulent</td>\n",
       "      <td>Flite delivers ad innovation at scale to the w...</td>\n",
       "    </tr>\n",
       "    <tr>\n",
       "      <th>17875</th>\n",
       "      <td>fraudulent</td>\n",
       "      <td>Vend is looking for some awesome new talent to...</td>\n",
       "    </tr>\n",
       "    <tr>\n",
       "      <th>17876</th>\n",
       "      <td>fraudulent</td>\n",
       "      <td>WebLinc is the e-commerce platform and service...</td>\n",
       "    </tr>\n",
       "    <tr>\n",
       "      <th>17877</th>\n",
       "      <td>fraudulent</td>\n",
       "      <td>We Provide Full Time Permanent Positions for m...</td>\n",
       "    </tr>\n",
       "    <tr>\n",
       "      <th>17879</th>\n",
       "      <td>fraudulent</td>\n",
       "      <td>Vend is looking for some awesome new talent to...</td>\n",
       "    </tr>\n",
       "  </tbody>\n",
       "</table>\n",
       "<p>14572 rows × 2 columns</p>\n",
       "</div>"
      ],
      "text/plain": [
       "            label                                               text\n",
       "0      fraudulent  We're Food52, and we've created a groundbreaki...\n",
       "1      fraudulent  90 Seconds, the worlds Cloud Video Production ...\n",
       "2      fraudulent  Valor Services provides Workforce Solutions th...\n",
       "3      fraudulent  Our passion for improving quality of life thro...\n",
       "4      fraudulent  SpotSource Solutions LLC is a Global Human Cap...\n",
       "...           ...                                                ...\n",
       "17872  fraudulent  Flite delivers ad innovation at scale to the w...\n",
       "17875  fraudulent  Vend is looking for some awesome new talent to...\n",
       "17876  fraudulent  WebLinc is the e-commerce platform and service...\n",
       "17877  fraudulent  We Provide Full Time Permanent Positions for m...\n",
       "17879  fraudulent  Vend is looking for some awesome new talent to...\n",
       "\n",
       "[14572 rows x 2 columns]"
      ]
     },
     "execution_count": 35,
     "metadata": {},
     "output_type": "execute_result"
    }
   ],
   "source": [
    "PATH = \"../data/regular/Job_postings.csv\"\n",
    "JOB = pd.read_csv(PATH, usecols=['company_profile', 'description', 'fraudulent'])\n",
    "\n",
    "JOB[\"text\"] = JOB[\"company_profile\"] + \" \" + JOB[\"description\"]\n",
    "\n",
    "JOB.rename(columns = {'fraudulent':'label'}, inplace = True)\n",
    "\n",
    "JOB['label'] = JOB['label'].replace(0, 'fraudulent')\n",
    "JOB['label'] = JOB['label'].replace(1, 'genuine')\n",
    "\n",
    "JOB = JOB.drop(columns=['company_profile', 'description'])\n",
    "JOB = JOB.dropna()\n",
    "\n",
    "JOB\n",
    "# Removing 'empty' rows\n",
    "#EMAIL.Body = np.where(EMAIL.Body.isin(['empty']), np.nan, EMAIL.Body)\n",
    "#EMAIL = EMAIL.dropna().reset_index().drop(columns=['index'])"
   ]
  },
  {
   "cell_type": "code",
   "execution_count": 45,
   "id": "630a87cd",
   "metadata": {},
   "outputs": [
    {
     "name": "stderr",
     "output_type": "stream",
     "text": [
      "100%|██████████| 14572/14572 [01:24<00:00, 173.45it/s]\n",
      "100%|██████████| 14572/14572 [00:00<00:00, 162450.49it/s]\n",
      "100%|██████████| 14572/14572 [00:00<00:00, 2077266.01it/s]\n"
     ]
    }
   ],
   "source": [
    "JOB['tokens'] = [preprocess(x) for x in tqdm(JOB['text'])]\n",
    "JOB['str_tokens'] = [' '.join(x) for x in tqdm(JOB['tokens'])]\n",
    "JOB = JOB[JOB['tokens'].astype(bool)]\n",
    "binary_dict = {'genuine': 0, 'fraudulent': 1}\n",
    "JOB['binary'] = [binary_dict[x] for x in tqdm(JOB['label'])]\n",
    "JOB.to_csv('../data/clean/clean_Job_postings.csv', index=False)"
   ]
  },
  {
   "cell_type": "code",
   "execution_count": 46,
   "id": "0e07cbcd",
   "metadata": {},
   "outputs": [
    {
     "data": {
      "text/html": [
       "<div>\n",
       "<style scoped>\n",
       "    .dataframe tbody tr th:only-of-type {\n",
       "        vertical-align: middle;\n",
       "    }\n",
       "\n",
       "    .dataframe tbody tr th {\n",
       "        vertical-align: top;\n",
       "    }\n",
       "\n",
       "    .dataframe thead th {\n",
       "        text-align: right;\n",
       "    }\n",
       "</style>\n",
       "<table border=\"1\" class=\"dataframe\">\n",
       "  <thead>\n",
       "    <tr style=\"text-align: right;\">\n",
       "      <th></th>\n",
       "      <th>label</th>\n",
       "      <th>text</th>\n",
       "      <th>tokens</th>\n",
       "      <th>str_tokens</th>\n",
       "      <th>binary</th>\n",
       "    </tr>\n",
       "  </thead>\n",
       "  <tbody>\n",
       "    <tr>\n",
       "      <th>0</th>\n",
       "      <td>fraudulent</td>\n",
       "      <td>We're Food52, and we've created a groundbreaki...</td>\n",
       "      <td>[creat, groundbreak, cook, site, support, conn...</td>\n",
       "      <td>creat groundbreak cook site support connect ce...</td>\n",
       "      <td>1</td>\n",
       "    </tr>\n",
       "    <tr>\n",
       "      <th>1</th>\n",
       "      <td>fraudulent</td>\n",
       "      <td>90 Seconds, the worlds Cloud Video Production ...</td>\n",
       "      <td>[second, world, cloud, video, product, second,...</td>\n",
       "      <td>second world cloud video product second world ...</td>\n",
       "      <td>1</td>\n",
       "    </tr>\n",
       "    <tr>\n",
       "      <th>2</th>\n",
       "      <td>fraudulent</td>\n",
       "      <td>Valor Services provides Workforce Solutions th...</td>\n",
       "      <td>[valor, servic, provid, workforc, solut, meet,...</td>\n",
       "      <td>valor servic provid workforc solut meet need c...</td>\n",
       "      <td>1</td>\n",
       "    </tr>\n",
       "    <tr>\n",
       "      <th>3</th>\n",
       "      <td>fraudulent</td>\n",
       "      <td>Our passion for improving quality of life thro...</td>\n",
       "      <td>[passion, improv, qualiti, life, geographi, he...</td>\n",
       "      <td>passion improv qualiti life geographi heart ev...</td>\n",
       "      <td>1</td>\n",
       "    </tr>\n",
       "    <tr>\n",
       "      <th>4</th>\n",
       "      <td>fraudulent</td>\n",
       "      <td>SpotSource Solutions LLC is a Global Human Cap...</td>\n",
       "      <td>[spotsourc, solut, llc, global, human, capit, ...</td>\n",
       "      <td>spotsourc solut llc global human capit manag c...</td>\n",
       "      <td>1</td>\n",
       "    </tr>\n",
       "    <tr>\n",
       "      <th>...</th>\n",
       "      <td>...</td>\n",
       "      <td>...</td>\n",
       "      <td>...</td>\n",
       "      <td>...</td>\n",
       "      <td>...</td>\n",
       "    </tr>\n",
       "    <tr>\n",
       "      <th>17872</th>\n",
       "      <td>fraudulent</td>\n",
       "      <td>Flite delivers ad innovation at scale to the w...</td>\n",
       "      <td>[flite, deliv, ad, innov, scale, world, top, p...</td>\n",
       "      <td>flite deliv ad innov scale world top publish b...</td>\n",
       "      <td>1</td>\n",
       "    </tr>\n",
       "    <tr>\n",
       "      <th>17875</th>\n",
       "      <td>fraudulent</td>\n",
       "      <td>Vend is looking for some awesome new talent to...</td>\n",
       "      <td>[vend, look, awesom, new, talent, come, join, ...</td>\n",
       "      <td>vend look awesom new talent come join us work ...</td>\n",
       "      <td>1</td>\n",
       "    </tr>\n",
       "    <tr>\n",
       "      <th>17876</th>\n",
       "      <td>fraudulent</td>\n",
       "      <td>WebLinc is the e-commerce platform and service...</td>\n",
       "      <td>[weblinc, platform, servic, provid, fastest, g...</td>\n",
       "      <td>weblinc platform servic provid fastest grow on...</td>\n",
       "      <td>1</td>\n",
       "    </tr>\n",
       "    <tr>\n",
       "      <th>17877</th>\n",
       "      <td>fraudulent</td>\n",
       "      <td>We Provide Full Time Permanent Positions for m...</td>\n",
       "      <td>[provid, full, time, perman, posit, mani, medi...</td>\n",
       "      <td>provid full time perman posit mani medium larg...</td>\n",
       "      <td>1</td>\n",
       "    </tr>\n",
       "    <tr>\n",
       "      <th>17879</th>\n",
       "      <td>fraudulent</td>\n",
       "      <td>Vend is looking for some awesome new talent to...</td>\n",
       "      <td>[vend, look, awesom, new, talent, come, join, ...</td>\n",
       "      <td>vend look awesom new talent come join us work ...</td>\n",
       "      <td>1</td>\n",
       "    </tr>\n",
       "  </tbody>\n",
       "</table>\n",
       "<p>14572 rows × 5 columns</p>\n",
       "</div>"
      ],
      "text/plain": [
       "            label                                               text  \\\n",
       "0      fraudulent  We're Food52, and we've created a groundbreaki...   \n",
       "1      fraudulent  90 Seconds, the worlds Cloud Video Production ...   \n",
       "2      fraudulent  Valor Services provides Workforce Solutions th...   \n",
       "3      fraudulent  Our passion for improving quality of life thro...   \n",
       "4      fraudulent  SpotSource Solutions LLC is a Global Human Cap...   \n",
       "...           ...                                                ...   \n",
       "17872  fraudulent  Flite delivers ad innovation at scale to the w...   \n",
       "17875  fraudulent  Vend is looking for some awesome new talent to...   \n",
       "17876  fraudulent  WebLinc is the e-commerce platform and service...   \n",
       "17877  fraudulent  We Provide Full Time Permanent Positions for m...   \n",
       "17879  fraudulent  Vend is looking for some awesome new talent to...   \n",
       "\n",
       "                                                  tokens  \\\n",
       "0      [creat, groundbreak, cook, site, support, conn...   \n",
       "1      [second, world, cloud, video, product, second,...   \n",
       "2      [valor, servic, provid, workforc, solut, meet,...   \n",
       "3      [passion, improv, qualiti, life, geographi, he...   \n",
       "4      [spotsourc, solut, llc, global, human, capit, ...   \n",
       "...                                                  ...   \n",
       "17872  [flite, deliv, ad, innov, scale, world, top, p...   \n",
       "17875  [vend, look, awesom, new, talent, come, join, ...   \n",
       "17876  [weblinc, platform, servic, provid, fastest, g...   \n",
       "17877  [provid, full, time, perman, posit, mani, medi...   \n",
       "17879  [vend, look, awesom, new, talent, come, join, ...   \n",
       "\n",
       "                                              str_tokens  binary  \n",
       "0      creat groundbreak cook site support connect ce...       1  \n",
       "1      second world cloud video product second world ...       1  \n",
       "2      valor servic provid workforc solut meet need c...       1  \n",
       "3      passion improv qualiti life geographi heart ev...       1  \n",
       "4      spotsourc solut llc global human capit manag c...       1  \n",
       "...                                                  ...     ...  \n",
       "17872  flite deliv ad innov scale world top publish b...       1  \n",
       "17875  vend look awesom new talent come join us work ...       1  \n",
       "17876  weblinc platform servic provid fastest grow on...       1  \n",
       "17877  provid full time perman posit mani medium larg...       1  \n",
       "17879  vend look awesom new talent come join us work ...       1  \n",
       "\n",
       "[14572 rows x 5 columns]"
      ]
     },
     "execution_count": 46,
     "metadata": {},
     "output_type": "execute_result"
    }
   ],
   "source": [
    "JOB"
   ]
  },
  {
   "cell_type": "markdown",
   "id": "35c6ddca",
   "metadata": {},
   "source": [
    "## NEWS"
   ]
  },
  {
   "cell_type": "code",
   "execution_count": 47,
   "id": "6888628d",
   "metadata": {},
   "outputs": [
    {
     "name": "stderr",
     "output_type": "stream",
     "text": [
      "100%|██████████| 44898/44898 [06:30<00:00, 114.83it/s]\n",
      "100%|██████████| 44898/44898 [00:00<00:00, 140483.69it/s]\n",
      "100%|██████████| 44266/44266 [00:00<00:00, 1834943.23it/s]\n"
     ]
    }
   ],
   "source": [
    "PATH = \"../data/regular/NEWS.csv\"\n",
    "NEWS = pd.read_csv(PATH, usecols=['text', 'label'])\n",
    "\n",
    "NEWS['tokens'] = [preprocess(x) for x in tqdm(NEWS['text'])]\n",
    "NEWS['str_tokens'] = [' '.join(x) for x in tqdm(NEWS['tokens'])]\n",
    "NEWS = NEWS[NEWS['tokens'].astype(bool)]\n",
    "binary_dict = {'real': 0, 'fake': 1}\n",
    "NEWS['binary'] = [binary_dict[x] for x in tqdm(NEWS['label'])]\n",
    "NEWS.to_csv('../data/clean/clean_News.csv', index=False)"
   ]
  },
  {
   "cell_type": "code",
   "execution_count": null,
   "id": "5e2bdada",
   "metadata": {},
   "outputs": [],
   "source": []
  },
  {
   "cell_type": "code",
   "execution_count": 39,
   "id": "6afbe123",
   "metadata": {},
   "outputs": [],
   "source": [
    "import pandas as pd\n",
    "import matplotlib.pyplot as plt\n",
    "import numpy as np"
   ]
  },
  {
   "cell_type": "markdown",
   "id": "448abc83",
   "metadata": {},
   "source": [
    "# Data analysis"
   ]
  },
  {
   "cell_type": "markdown",
   "id": "8ef241b4",
   "metadata": {},
   "source": [
    "The following analysis will investigate the nature of the spam/ham dataset. More specifically, we will look into how long the typical SMS is for each group respectively. Subsequently, we will investigate the amount of spelling mistakes present in each group."
   ]
  },
  {
   "cell_type": "code",
   "execution_count": 14,
   "id": "2610ca03",
   "metadata": {},
   "outputs": [
    {
     "data": {
      "text/html": [
       "<div>\n",
       "<style scoped>\n",
       "    .dataframe tbody tr th:only-of-type {\n",
       "        vertical-align: middle;\n",
       "    }\n",
       "\n",
       "    .dataframe tbody tr th {\n",
       "        vertical-align: top;\n",
       "    }\n",
       "\n",
       "    .dataframe thead th {\n",
       "        text-align: right;\n",
       "    }\n",
       "</style>\n",
       "<table border=\"1\" class=\"dataframe\">\n",
       "  <thead>\n",
       "    <tr style=\"text-align: right;\">\n",
       "      <th></th>\n",
       "      <th>label</th>\n",
       "      <th>text</th>\n",
       "      <th>tokens</th>\n",
       "      <th>str_tokens</th>\n",
       "    </tr>\n",
       "  </thead>\n",
       "  <tbody>\n",
       "    <tr>\n",
       "      <th>0</th>\n",
       "      <td>ham</td>\n",
       "      <td>Go until jurong point, crazy.. Available only ...</td>\n",
       "      <td>[go, jurong, point, avail, bugi, n, great, wor...</td>\n",
       "      <td>go jurong point avail bugi n great world la e ...</td>\n",
       "    </tr>\n",
       "    <tr>\n",
       "      <th>1</th>\n",
       "      <td>ham</td>\n",
       "      <td>Ok lar... Joking wif u oni...</td>\n",
       "      <td>[ok, lar, joke, wif, u, oni]</td>\n",
       "      <td>ok lar joke wif u oni</td>\n",
       "    </tr>\n",
       "    <tr>\n",
       "      <th>2</th>\n",
       "      <td>spam</td>\n",
       "      <td>Free entry in 2 a wkly comp to win FA Cup fina...</td>\n",
       "      <td>[free, entri, wkli, comp, win, fa, cup, final,...</td>\n",
       "      <td>free entri wkli comp win fa cup final tkt may ...</td>\n",
       "    </tr>\n",
       "    <tr>\n",
       "      <th>3</th>\n",
       "      <td>ham</td>\n",
       "      <td>U dun say so early hor... U c already then say...</td>\n",
       "      <td>[u, dun, say, earli, hor, u, c, alreadi, say]</td>\n",
       "      <td>u dun say earli hor u c alreadi say</td>\n",
       "    </tr>\n",
       "    <tr>\n",
       "      <th>4</th>\n",
       "      <td>ham</td>\n",
       "      <td>Nah I don't think he goes to usf, he lives aro...</td>\n",
       "      <td>[nah, think, goe, usf, live, around, though]</td>\n",
       "      <td>nah think goe usf live around though</td>\n",
       "    </tr>\n",
       "  </tbody>\n",
       "</table>\n",
       "</div>"
      ],
      "text/plain": [
       "  label                                               text  \\\n",
       "0   ham  Go until jurong point, crazy.. Available only ...   \n",
       "1   ham                      Ok lar... Joking wif u oni...   \n",
       "2  spam  Free entry in 2 a wkly comp to win FA Cup fina...   \n",
       "3   ham  U dun say so early hor... U c already then say...   \n",
       "4   ham  Nah I don't think he goes to usf, he lives aro...   \n",
       "\n",
       "                                              tokens  \\\n",
       "0  [go, jurong, point, avail, bugi, n, great, wor...   \n",
       "1                       [ok, lar, joke, wif, u, oni]   \n",
       "2  [free, entri, wkli, comp, win, fa, cup, final,...   \n",
       "3      [u, dun, say, earli, hor, u, c, alreadi, say]   \n",
       "4       [nah, think, goe, usf, live, around, though]   \n",
       "\n",
       "                                          str_tokens  \n",
       "0  go jurong point avail bugi n great world la e ...  \n",
       "1                              ok lar joke wif u oni  \n",
       "2  free entri wkli comp win fa cup final tkt may ...  \n",
       "3                u dun say earli hor u c alreadi say  \n",
       "4               nah think goe usf live around though  "
      ]
     },
     "execution_count": 14,
     "metadata": {},
     "output_type": "execute_result"
    }
   ],
   "source": [
    "from ast import literal_eval\n",
    "df = pd.read_csv('../data/clean/clean_spam.csv', encoding= \"ISO-8859-1\")\n",
    "df.tokens = df.tokens.apply(literal_eval)\n",
    "df.head()"
   ]
  },
  {
   "cell_type": "code",
   "execution_count": 15,
   "id": "c3f562cc",
   "metadata": {},
   "outputs": [],
   "source": [
    "df['len'] = df.tokens.str.len()\n",
    "df_spam = df[df.label=='spam']\n",
    "df_ham = df[df.label=='ham']"
   ]
  },
  {
   "cell_type": "markdown",
   "id": "06fd05c5",
   "metadata": {},
   "source": [
    "First let us investigate the proportion of ham and spam in the dataset:"
   ]
  },
  {
   "cell_type": "code",
   "execution_count": 16,
   "id": "60741854",
   "metadata": {},
   "outputs": [
    {
     "data": {
      "image/png": "[encoded data removed]",
      "text/plain": [
       "<Figure size 1000x500 with 1 Axes>"
      ]
     },
     "metadata": {
      "needs_background": "light"
     },
     "output_type": "display_data"
    }
   ],
   "source": [
    "fig, ax = plt.subplots(figsize=(10,5), dpi=100)\n",
    "df.label.value_counts().plot(kind='bar', ax=ax, color=['lightblue', 'lightcoral'])\n",
    "plt.show()"
   ]
  },
  {
   "cell_type": "markdown",
   "id": "092af636",
   "metadata": {},
   "source": [
    "Notably, the dataset illustrated a significant class imbalance, which would probably have to be taken into account when training models for classification.\n",
    "The following will analyse the length distribution of spam and ham mails:"
   ]
  },
  {
   "cell_type": "code",
   "execution_count": 17,
   "id": "a49247b9",
   "metadata": {},
   "outputs": [
    {
     "data": {
      "image/png": "[encoded data removed]",
      "text/plain": [
       "<Figure size 1000x500 with 1 Axes>"
      ]
     },
     "metadata": {
      "needs_background": "light"
     },
     "output_type": "display_data"
    }
   ],
   "source": [
    "\n",
    "spam_len = list(df_spam.len.values)\n",
    "ham_len = list(df_ham.len.values)\n",
    "\n",
    "bins = np.arange(min(spam_len), max(spam_len), 1)\n",
    "hist, edges = np.histogram(spam_len, bins=bins, density=True)\n",
    "x = (edges[1:] + edges[:-1])/2\n",
    "width = bins[1]-bins[0]\n",
    "\n",
    "fig, ax = plt.subplots(1, figsize=(10,5), dpi=100)\n",
    "ax.bar(x, hist, width=width*0.91, color='lightcoral', label='spam', alpha=0.7)\n",
    "ax.set_ylabel(\"counts\")\n",
    "ax.set_xlabel(\"k\")\n",
    "ax.set_title(\"\")\n",
    "\n",
    "ax.axvline(np.mean(spam_len), c='red', label='$\\mu_{spam}$', linestyle='dashed')\n",
    "ax.axvline(np.mean(ham_len), c='darkblue', label='$\\mu_{ham}$', linestyle='dashed')\n",
    "\n",
    "bins = np.arange(min(ham_len), max(ham_len), 1)\n",
    "hist, edges = np.histogram(ham_len, bins=bins, density=True)\n",
    "x = (edges[1:] + edges[:-1])/2\n",
    "width = bins[1]-bins[0]\n",
    "ax.bar(x, hist, width=width*0.90, color='lightblue', label='ham', alpha=0.7)\n",
    "\n",
    "ax.legend()\n",
    "ax.set_ylabel(\"density\")\n",
    "ax.set_xlabel(\"length\")\n",
    "ax.set_title(\"Length Distribution of SMS\") #TODO: maybe change to number of words\n",
    "\n",
    "plt.show()"
   ]
  },
  {
   "cell_type": "markdown",
   "id": "96b9f37a",
   "metadata": {},
   "source": [
    "By visually inspecting the above figure, it appears that spam SMSes tend to have longer content than ham SMSes."
   ]
  },
  {
   "cell_type": "code",
   "execution_count": 18,
   "id": "ba673b3c",
   "metadata": {},
   "outputs": [
    {
     "name": "stdout",
     "output_type": "stream",
     "text": [
      "Mean of spam: 12.556894243641231\n",
      "Standard deviation of spam: 3.8856361985562224\n",
      "\n",
      "Mean of ham: 7.529740932642487\n",
      "Standard deviation of ham: 6.011663657664499\n"
     ]
    }
   ],
   "source": [
    "print(f'Mean of spam: {np.mean(spam_len)}')\n",
    "print(f'Standard deviation of spam: {np.std(spam_len)}')\n",
    "print()\n",
    "print(f'Mean of ham: {np.mean(ham_len)}')\n",
    "print(f'Standard deviation of ham: {np.std(ham_len)}')"
   ]
  },
  {
   "cell_type": "markdown",
   "id": "d377bd2c",
   "metadata": {},
   "source": [
    "Furthermore, the following will investigate the proportion of spelling mistakes in each group respectively."
   ]
  },
  {
   "cell_type": "code",
   "execution_count": 19,
   "id": "faf6c9e5",
   "metadata": {},
   "outputs": [],
   "source": [
    "from spellchecker import SpellChecker\n",
    "import re\n",
    "import nltk\n",
    "from tqdm import tqdm\n",
    "\n",
    "tqdm.pandas()\n",
    "\n",
    "def find_misspelled(row):\n",
    "    #TODO: add words that are not misspelled but not in dictionary e.g. nokia\n",
    "    text = row.text.lower()\n",
    "    spell = SpellChecker()\n",
    "    words = nltk.tokenize.word_tokenize(text)\n",
    "    #re_pattern = '[a-z]+'\n",
    "    #re_pattern = '[a-z]{2,}'\n",
    "    #words = re.findall(re_pattern, text)\n",
    "    misspelled = [word for word in spell.unknown(words) if str(word) not in ['nan']]\n",
    "    return misspelled"
   ]
  },
  {
   "cell_type": "code",
   "execution_count": 20,
   "id": "d4582b90",
   "metadata": {},
   "outputs": [
    {
     "name": "stderr",
     "output_type": "stream",
     "text": [
      "100%|██████████| 5572/5572 [05:03<00:00, 18.33it/s]\n"
     ]
    }
   ],
   "source": [
    "df['misspelled'] = df.progress_apply(lambda row: find_misspelled(row), axis=1)"
   ]
  },
  {
   "cell_type": "code",
   "execution_count": 21,
   "id": "2e832ea4",
   "metadata": {},
   "outputs": [],
   "source": [
    "df['misspelled_size'] = df['misspelled'].apply(lambda x: len(x))"
   ]
  },
  {
   "cell_type": "code",
   "execution_count": 22,
   "id": "ef141741",
   "metadata": {},
   "outputs": [],
   "source": [
    "df_spam = df[df.label=='spam']\n",
    "df_ham = df[df.label=='ham']"
   ]
  },
  {
   "cell_type": "code",
   "execution_count": 23,
   "id": "6b51be5c",
   "metadata": {},
   "outputs": [
    {
     "data": {
      "image/png": "[encoded data removed]",
      "text/plain": [
       "<Figure size 1000x500 with 1 Axes>"
      ]
     },
     "metadata": {
      "needs_background": "light"
     },
     "output_type": "display_data"
    }
   ],
   "source": [
    "spam_len = list(df_spam.misspelled_size.values)\n",
    "ham_len = list(df_ham.misspelled_size.values)\n",
    "\n",
    "bins = np.arange(min(spam_len), max(spam_len), 1)\n",
    "hist, edges = np.histogram(spam_len, bins=bins, density=True)\n",
    "x = (edges[1:] + edges[:-1])/2\n",
    "width = bins[1]-bins[0]\n",
    "\n",
    "fig, ax = plt.subplots(1, figsize=(10,5), dpi=100)\n",
    "ax.bar(x, hist, width=width*0.91, color='lightcoral', label='spam', alpha=0.7)\n",
    "ax.set_ylabel(\"counts\")\n",
    "ax.set_xlabel(\"k\")\n",
    "ax.set_title(\"\")\n",
    "\n",
    "ax.axvline(np.mean(spam_len), c='red', label='$\\mu_{spam}$', linestyle='dashed')\n",
    "ax.axvline(np.mean(ham_len), c='darkblue', label='$\\mu_{ham}$', linestyle='dashed')\n",
    "\n",
    "bins = np.arange(min(ham_len), max(ham_len), 1)\n",
    "hist, edges = np.histogram(ham_len, bins=bins, density=True)\n",
    "x = (edges[1:] + edges[:-1])/2\n",
    "width = bins[1]-bins[0]\n",
    "ax.bar(x, hist, width=width*0.90, color='lightblue', label='ham', alpha=0.7)\n",
    "\n",
    "ax.legend()\n",
    "ax.set_ylabel(\"density\")\n",
    "ax.set_xlabel(\"Misspelled words\")\n",
    "ax.set_title(\"Misspelling Distribution\")\n",
    "\n",
    "plt.show()"
   ]
  },
  {
   "cell_type": "code",
   "execution_count": 24,
   "id": "d74b874b",
   "metadata": {},
   "outputs": [
    {
     "name": "stdout",
     "output_type": "stream",
     "text": [
      "Mean of spam: 4.459170013386881\n",
      "Standard deviation of spam: 2.7388583315655346\n",
      "\n",
      "Mean of ham: 1.8147150259067357\n",
      "Standard deviation of ham: 2.2210651990141197\n"
     ]
    }
   ],
   "source": [
    "print(f'Mean of spam: {np.mean(spam_len)}')\n",
    "print(f'Standard deviation of spam: {np.std(spam_len)}')\n",
    "print()\n",
    "print(f'Mean of ham: {np.mean(ham_len)}')\n",
    "print(f'Standard deviation of ham: {np.std(ham_len)}')"
   ]
  },
  {
   "cell_type": "markdown",
   "id": "640181e8",
   "metadata": {},
   "source": [
    "# Email spam"
   ]
  },
  {
   "cell_type": "code",
   "execution_count": 25,
   "id": "0e6195c6",
   "metadata": {
    "scrolled": true
   },
   "outputs": [
    {
     "data": {
      "text/html": [
       "<div>\n",
       "<style scoped>\n",
       "    .dataframe tbody tr th:only-of-type {\n",
       "        vertical-align: middle;\n",
       "    }\n",
       "\n",
       "    .dataframe tbody tr th {\n",
       "        vertical-align: top;\n",
       "    }\n",
       "\n",
       "    .dataframe thead th {\n",
       "        text-align: right;\n",
       "    }\n",
       "</style>\n",
       "<table border=\"1\" class=\"dataframe\">\n",
       "  <thead>\n",
       "    <tr style=\"text-align: right;\">\n",
       "      <th></th>\n",
       "      <th>text</th>\n",
       "      <th>label</th>\n",
       "      <th>tokens</th>\n",
       "      <th>str_tokens</th>\n",
       "    </tr>\n",
       "  </thead>\n",
       "  <tbody>\n",
       "    <tr>\n",
       "      <th>0</th>\n",
       "      <td>\\nSave up to 70% on Life Insurance.\\nWhy Spend...</td>\n",
       "      <td>spam</td>\n",
       "      <td>[save, life, insur, spend, life, quot, save, e...</td>\n",
       "      <td>save life insur spend life quot save ensur fam...</td>\n",
       "    </tr>\n",
       "    <tr>\n",
       "      <th>1</th>\n",
       "      <td>1) Fight The Risk of Cancer!\\nhttp://www.adcli...</td>\n",
       "      <td>spam</td>\n",
       "      <td>[fight, risk, cancer, url, slim, guarante, los...</td>\n",
       "      <td>fight risk cancer url slim guarante lose lb da...</td>\n",
       "    </tr>\n",
       "    <tr>\n",
       "      <th>2</th>\n",
       "      <td>1) Fight The Risk of Cancer!\\nhttp://www.adcli...</td>\n",
       "      <td>spam</td>\n",
       "      <td>[fight, risk, cancer, url, slim, guarante, los...</td>\n",
       "      <td>fight risk cancer url slim guarante lose lb da...</td>\n",
       "    </tr>\n",
       "    <tr>\n",
       "      <th>3</th>\n",
       "      <td>##############################################...</td>\n",
       "      <td>spam</td>\n",
       "      <td>[adult, club, offer, free, membership, instant...</td>\n",
       "      <td>adult club offer free membership instant acces...</td>\n",
       "    </tr>\n",
       "    <tr>\n",
       "      <th>4</th>\n",
       "      <td>I thought you might like these:\\n1) Slim Down ...</td>\n",
       "      <td>spam</td>\n",
       "      <td>[thought, might, like, slim, guarante, lose, l...</td>\n",
       "      <td>thought might like slim guarante lose lb day u...</td>\n",
       "    </tr>\n",
       "  </tbody>\n",
       "</table>\n",
       "</div>"
      ],
      "text/plain": [
       "                                                text label  \\\n",
       "0  \\nSave up to 70% on Life Insurance.\\nWhy Spend...  spam   \n",
       "1  1) Fight The Risk of Cancer!\\nhttp://www.adcli...  spam   \n",
       "2  1) Fight The Risk of Cancer!\\nhttp://www.adcli...  spam   \n",
       "3  ##############################################...  spam   \n",
       "4  I thought you might like these:\\n1) Slim Down ...  spam   \n",
       "\n",
       "                                              tokens  \\\n",
       "0  [save, life, insur, spend, life, quot, save, e...   \n",
       "1  [fight, risk, cancer, url, slim, guarante, los...   \n",
       "2  [fight, risk, cancer, url, slim, guarante, los...   \n",
       "3  [adult, club, offer, free, membership, instant...   \n",
       "4  [thought, might, like, slim, guarante, lose, l...   \n",
       "\n",
       "                                          str_tokens  \n",
       "0  save life insur spend life quot save ensur fam...  \n",
       "1  fight risk cancer url slim guarante lose lb da...  \n",
       "2  fight risk cancer url slim guarante lose lb da...  \n",
       "3  adult club offer free membership instant acces...  \n",
       "4  thought might like slim guarante lose lb day u...  "
      ]
     },
     "execution_count": 25,
     "metadata": {},
     "output_type": "execute_result"
    }
   ],
   "source": [
    "df = pd.read_csv('../data/clean/clean_completeSpamAssassin.csv', encoding= \"ISO-8859-1\")\n",
    "df.tokens = df.tokens.apply(literal_eval)\n",
    "df.head()"
   ]
  },
  {
   "cell_type": "code",
   "execution_count": 26,
   "id": "8ebc415a",
   "metadata": {},
   "outputs": [],
   "source": [
    "df['len'] = df.tokens.str.len()\n",
    "df_spam = df[df.label=='spam']\n",
    "df_ham = df[df.label=='ham']"
   ]
  },
  {
   "cell_type": "code",
   "execution_count": 27,
   "id": "00fb026b",
   "metadata": {},
   "outputs": [
    {
     "data": {
      "image/png": "[encoded data removed]",
      "text/plain": [
       "<Figure size 1000x500 with 1 Axes>"
      ]
     },
     "metadata": {
      "needs_background": "light"
     },
     "output_type": "display_data"
    }
   ],
   "source": [
    "fig, ax = plt.subplots(figsize=(10,5), dpi=100)\n",
    "df.label.value_counts().plot(kind='bar', ax=ax, color=['lightblue', 'lightcoral'])\n",
    "plt.show()"
   ]
  },
  {
   "cell_type": "code",
   "execution_count": 28,
   "id": "3ffa938c",
   "metadata": {},
   "outputs": [
    {
     "data": {
      "image/png": "[encoded data removed]",
      "text/plain": [
       "<Figure size 1000x500 with 1 Axes>"
      ]
     },
     "metadata": {
      "needs_background": "light"
     },
     "output_type": "display_data"
    }
   ],
   "source": [
    "\n",
    "spam_len = list(df_spam.len.values)\n",
    "ham_len = list(df_ham.len.values)\n",
    "\n",
    "bins = np.arange(min(spam_len), max(spam_len), 1)\n",
    "hist, edges = np.histogram(spam_len, bins=bins, density=True)\n",
    "x = (edges[1:] + edges[:-1])/2\n",
    "width = bins[1]-bins[0]\n",
    "\n",
    "fig, ax = plt.subplots(1, figsize=(10,5), dpi=100)\n",
    "ax.bar(x, hist, width=width*0.91, color='lightcoral', label='spam', alpha=0.7)\n",
    "ax.set_ylabel(\"counts\")\n",
    "ax.set_xlabel(\"k\")\n",
    "ax.set_title(\"\")\n",
    "\n",
    "ax.axvline(np.mean(spam_len), c='red', label='$\\mu_{spam}$', linestyle='dashed')\n",
    "ax.axvline(np.mean(ham_len), c='darkblue', label='$\\mu_{ham}$', linestyle='dashed')\n",
    "\n",
    "bins = np.arange(min(ham_len), max(ham_len), 1)\n",
    "hist, edges = np.histogram(ham_len, bins=bins, density=True)\n",
    "x = (edges[1:] + edges[:-1])/2\n",
    "width = bins[1]-bins[0]\n",
    "ax.bar(x, hist, width=width*0.90, color='lightblue', label='ham', alpha=0.7)\n",
    "\n",
    "ax.legend()\n",
    "ax.set_ylabel(\"density\")\n",
    "ax.set_xlabel(\"length\")\n",
    "ax.set_title(\"Length Distribution of E-mail\") #TODO: maybe change to number of words\n",
    "\n",
    "plt.show()"
   ]
  },
  {
   "cell_type": "code",
   "execution_count": 29,
   "id": "d92fe4f4",
   "metadata": {},
   "outputs": [
    {
     "name": "stdout",
     "output_type": "stream",
     "text": [
      "Mean of spam: 165.4096153846154\n",
      "Standard deviation of spam: 345.2620532586298\n",
      "\n",
      "Mean of ham: 132.83223684210526\n",
      "Standard deviation of ham: 342.1942693248409\n"
     ]
    }
   ],
   "source": [
    "print(f'Mean of spam: {np.mean(spam_len)}')\n",
    "print(f'Standard deviation of spam: {np.std(spam_len)}')\n",
    "print()\n",
    "print(f'Mean of ham: {np.mean(ham_len)}')\n",
    "print(f'Standard deviation of ham: {np.std(ham_len)}')"
   ]
  },
  {
   "cell_type": "code",
   "execution_count": 30,
   "id": "aa25825e",
   "metadata": {
    "scrolled": false
   },
   "outputs": [
    {
     "name": "stderr",
     "output_type": "stream",
     "text": [
      "100%|██████████| 5512/5512 [06:23<00:00, 14.39it/s]\n"
     ]
    }
   ],
   "source": [
    "df['misspelled'] = df.progress_apply(lambda row: find_misspelled(row), axis=1)"
   ]
  },
  {
   "cell_type": "code",
   "execution_count": 31,
   "id": "2d6195ac",
   "metadata": {},
   "outputs": [],
   "source": [
    "df['misspelled_size'] = df['misspelled'].apply(lambda x: len(x))"
   ]
  },
  {
   "cell_type": "code",
   "execution_count": 32,
   "id": "d273c177",
   "metadata": {},
   "outputs": [],
   "source": [
    "df_spam = df[df.label=='spam']\n",
    "df_ham = df[df.label=='ham']"
   ]
  },
  {
   "cell_type": "code",
   "execution_count": 33,
   "id": "6cadf673",
   "metadata": {},
   "outputs": [
    {
     "data": {
      "image/png": "[encoded data removed]",
      "text/plain": [
       "<Figure size 1000x500 with 1 Axes>"
      ]
     },
     "metadata": {
      "needs_background": "light"
     },
     "output_type": "display_data"
    }
   ],
   "source": [
    "spam_len = list(df_spam.misspelled_size.values)\n",
    "ham_len = list(df_ham.misspelled_size.values)\n",
    "\n",
    "bins = np.arange(min(spam_len), max(spam_len), 1)\n",
    "hist, edges = np.histogram(spam_len, bins=bins, density=True)\n",
    "x = (edges[1:] + edges[:-1])/2\n",
    "width = bins[1]-bins[0]\n",
    "\n",
    "fig, ax = plt.subplots(1, figsize=(10,5), dpi=100)\n",
    "ax.bar(x, hist, width=width*0.91, color='lightcoral', label='spam', alpha=0.7)\n",
    "ax.set_ylabel(\"counts\")\n",
    "ax.set_xlabel(\"k\")\n",
    "ax.set_title(\"\")\n",
    "\n",
    "ax.axvline(np.mean(spam_len), c='red', label='$\\mu_{spam}$', linestyle='dashed')\n",
    "ax.axvline(np.mean(ham_len), c='darkblue', label='$\\mu_{ham}$', linestyle='dashed')\n",
    "\n",
    "bins = np.arange(min(ham_len), max(ham_len), 1)\n",
    "hist, edges = np.histogram(ham_len, bins=bins, density=True)\n",
    "x = (edges[1:] + edges[:-1])/2\n",
    "width = bins[1]-bins[0]\n",
    "ax.bar(x, hist, width=width*0.90, color='lightblue', label='ham', alpha=0.7)\n",
    "\n",
    "ax.legend()\n",
    "ax.set_ylabel(\"density\")\n",
    "ax.set_xlabel(\"Misspelled words\")\n",
    "ax.set_title(\"Misspelling Distribution\")\n",
    "\n",
    "plt.show()"
   ]
  },
  {
   "cell_type": "code",
   "execution_count": 34,
   "id": "b0482445",
   "metadata": {},
   "outputs": [
    {
     "name": "stdout",
     "output_type": "stream",
     "text": [
      "Mean of spam: 26.098717948717947\n",
      "Standard deviation of spam: 41.68982533925853\n",
      "\n",
      "Mean of ham: 27.90182186234818\n",
      "Standard deviation of ham: 81.5357462200511\n"
     ]
    }
   ],
   "source": [
    "print(f'Mean of spam: {np.mean(spam_len)}')\n",
    "print(f'Standard deviation of spam: {np.std(spam_len)}')\n",
    "print()\n",
    "print(f'Mean of ham: {np.mean(ham_len)}')\n",
    "print(f'Standard deviation of ham: {np.std(ham_len)}')"
   ]
  },
  {
   "cell_type": "markdown",
   "id": "3627012a",
   "metadata": {},
   "source": [
    "## Job Postings"
   ]
  },
  {
   "cell_type": "code",
   "execution_count": 35,
   "id": "0a3fb945",
   "metadata": {
    "scrolled": true
   },
   "outputs": [
    {
     "data": {
      "text/html": [
       "<div>\n",
       "<style scoped>\n",
       "    .dataframe tbody tr th:only-of-type {\n",
       "        vertical-align: middle;\n",
       "    }\n",
       "\n",
       "    .dataframe tbody tr th {\n",
       "        vertical-align: top;\n",
       "    }\n",
       "\n",
       "    .dataframe thead th {\n",
       "        text-align: right;\n",
       "    }\n",
       "</style>\n",
       "<table border=\"1\" class=\"dataframe\">\n",
       "  <thead>\n",
       "    <tr style=\"text-align: right;\">\n",
       "      <th></th>\n",
       "      <th>label</th>\n",
       "      <th>text</th>\n",
       "      <th>tokens</th>\n",
       "      <th>str_tokens</th>\n",
       "    </tr>\n",
       "  </thead>\n",
       "  <tbody>\n",
       "    <tr>\n",
       "      <th>0</th>\n",
       "      <td>fraudulent</td>\n",
       "      <td>We're Food52, and we've created a groundbreaki...</td>\n",
       "      <td>[creat, groundbreak, cook, site, support, conn...</td>\n",
       "      <td>creat groundbreak cook site support connect ce...</td>\n",
       "    </tr>\n",
       "    <tr>\n",
       "      <th>1</th>\n",
       "      <td>fraudulent</td>\n",
       "      <td>90 Seconds, the worlds Cloud Video Production ...</td>\n",
       "      <td>[second, world, cloud, video, product, second,...</td>\n",
       "      <td>second world cloud video product second world ...</td>\n",
       "    </tr>\n",
       "    <tr>\n",
       "      <th>2</th>\n",
       "      <td>fraudulent</td>\n",
       "      <td>Valor Services provides Workforce Solutions th...</td>\n",
       "      <td>[valor, servic, provid, workforc, solut, meet,...</td>\n",
       "      <td>valor servic provid workforc solut meet need c...</td>\n",
       "    </tr>\n",
       "    <tr>\n",
       "      <th>3</th>\n",
       "      <td>fraudulent</td>\n",
       "      <td>Our passion for improving quality of life thro...</td>\n",
       "      <td>[passion, improv, qualiti, life, geographi, he...</td>\n",
       "      <td>passion improv qualiti life geographi heart ev...</td>\n",
       "    </tr>\n",
       "    <tr>\n",
       "      <th>4</th>\n",
       "      <td>fraudulent</td>\n",
       "      <td>SpotSource Solutions LLC is a Global Human Cap...</td>\n",
       "      <td>[spotsourc, solut, llc, global, human, capit, ...</td>\n",
       "      <td>spotsourc solut llc global human capit manag c...</td>\n",
       "    </tr>\n",
       "  </tbody>\n",
       "</table>\n",
       "</div>"
      ],
      "text/plain": [
       "        label                                               text  \\\n",
       "0  fraudulent  We're Food52, and we've created a groundbreaki...   \n",
       "1  fraudulent  90 Seconds, the worlds Cloud Video Production ...   \n",
       "2  fraudulent  Valor Services provides Workforce Solutions th...   \n",
       "3  fraudulent  Our passion for improving quality of life thro...   \n",
       "4  fraudulent  SpotSource Solutions LLC is a Global Human Cap...   \n",
       "\n",
       "                                              tokens  \\\n",
       "0  [creat, groundbreak, cook, site, support, conn...   \n",
       "1  [second, world, cloud, video, product, second,...   \n",
       "2  [valor, servic, provid, workforc, solut, meet,...   \n",
       "3  [passion, improv, qualiti, life, geographi, he...   \n",
       "4  [spotsourc, solut, llc, global, human, capit, ...   \n",
       "\n",
       "                                          str_tokens  \n",
       "0  creat groundbreak cook site support connect ce...  \n",
       "1  second world cloud video product second world ...  \n",
       "2  valor servic provid workforc solut meet need c...  \n",
       "3  passion improv qualiti life geographi heart ev...  \n",
       "4  spotsourc solut llc global human capit manag c...  "
      ]
     },
     "execution_count": 35,
     "metadata": {},
     "output_type": "execute_result"
    }
   ],
   "source": [
    "df = pd.read_csv('../data/clean/clean_Job_postings.csv', encoding= \"ISO-8859-1\")\n",
    "df.tokens = df.tokens.apply(literal_eval)\n",
    "df.head()"
   ]
  },
  {
   "cell_type": "code",
   "execution_count": 36,
   "id": "ca504dad",
   "metadata": {},
   "outputs": [],
   "source": [
    "df['len'] = df.tokens.str.len()\n",
    "df_spam = df[df.label=='fraudulent']\n",
    "df_ham = df[df.label=='genuine']"
   ]
  },
  {
   "cell_type": "code",
   "execution_count": 37,
   "id": "eeb9ff97",
   "metadata": {},
   "outputs": [
    {
     "data": {
      "image/png": "[encoded data removed]",
      "text/plain": [
       "<Figure size 1000x500 with 1 Axes>"
      ]
     },
     "metadata": {
      "needs_background": "light"
     },
     "output_type": "display_data"
    }
   ],
   "source": [
    "fig, ax = plt.subplots(figsize=(10,5), dpi=100)\n",
    "df.label.value_counts().plot(kind='bar', ax=ax, color=['lightblue', 'lightcoral'])\n",
    "plt.show()"
   ]
  },
  {
   "cell_type": "code",
   "execution_count": 38,
   "id": "a6359332",
   "metadata": {},
   "outputs": [
    {
     "data": {
      "image/png": "[encoded data removed]",
      "text/plain": [
       "<Figure size 1000x500 with 1 Axes>"
      ]
     },
     "metadata": {
      "needs_background": "light"
     },
     "output_type": "display_data"
    }
   ],
   "source": [
    "\n",
    "spam_len = list(df_spam.len.values)\n",
    "ham_len = list(df_ham.len.values)\n",
    "\n",
    "bins = np.arange(min(spam_len), max(spam_len), 1)\n",
    "hist, edges = np.histogram(spam_len, bins=bins, density=True)\n",
    "x = (edges[1:] + edges[:-1])/2\n",
    "width = bins[1]-bins[0]\n",
    "\n",
    "fig, ax = plt.subplots(1, figsize=(10,5), dpi=100)\n",
    "ax.bar(x, hist, width=width*0.91, color='lightcoral', label='fraudulent', alpha=0.7)\n",
    "ax.set_ylabel(\"counts\")\n",
    "ax.set_xlabel(\"k\")\n",
    "ax.set_title(\"\")\n",
    "\n",
    "ax.axvline(np.mean(spam_len), c='red', label='$\\mu_{fraudulent}$', linestyle='dashed')\n",
    "ax.axvline(np.mean(ham_len), c='darkblue', label='$\\mu_{genuine}$', linestyle='dashed')\n",
    "\n",
    "bins = np.arange(min(ham_len), max(ham_len), 1)\n",
    "hist, edges = np.histogram(ham_len, bins=bins, density=True)\n",
    "x = (edges[1:] + edges[:-1])/2\n",
    "width = bins[1]-bins[0]\n",
    "ax.bar(x, hist, width=width*0.90, color='lightblue', label='genuine', alpha=0.7)\n",
    "\n",
    "ax.legend()\n",
    "ax.set_ylabel(\"density\")\n",
    "ax.set_xlabel(\"length\")\n",
    "ax.set_title(\"Length Distribution of job posting\") #TODO: maybe change to number of words\n",
    "\n",
    "plt.show()"
   ]
  },
  {
   "cell_type": "code",
   "execution_count": 39,
   "id": "537db8a5",
   "metadata": {},
   "outputs": [
    {
     "name": "stdout",
     "output_type": "stream",
     "text": [
      "Mean of fraudulent: 165.83299517246203\n",
      "Standard deviation of fraudulent: 88.89742561795478\n",
      "\n",
      "Mean of genuine: 173.69534050179212\n",
      "Standard deviation of genuine: 89.46694197237123\n"
     ]
    }
   ],
   "source": [
    "print(f'Mean of fraudulent: {np.mean(spam_len)}')\n",
    "print(f'Standard deviation of fraudulent: {np.std(spam_len)}')\n",
    "print()\n",
    "print(f'Mean of genuine: {np.mean(ham_len)}')\n",
    "print(f'Standard deviation of genuine: {np.std(ham_len)}')"
   ]
  },
  {
   "cell_type": "code",
   "execution_count": 40,
   "id": "948c16b4",
   "metadata": {
    "scrolled": true
   },
   "outputs": [
    {
     "name": "stderr",
     "output_type": "stream",
     "text": [
      "100%|██████████| 14572/14572 [20:27<00:00, 11.87it/s]\n"
     ]
    }
   ],
   "source": [
    "df['misspelled'] = df.progress_apply(lambda row: find_misspelled(row), axis=1)"
   ]
  },
  {
   "cell_type": "code",
   "execution_count": 41,
   "id": "65b28398",
   "metadata": {},
   "outputs": [],
   "source": [
    "df['misspelled_size'] = df['misspelled'].apply(lambda x: len(x))"
   ]
  },
  {
   "cell_type": "code",
   "execution_count": 42,
   "id": "66711fc8",
   "metadata": {},
   "outputs": [],
   "source": [
    "df_spam = df[df.label=='fraudulent']\n",
    "df_ham = df[df.label=='genuine']"
   ]
  },
  {
   "cell_type": "code",
   "execution_count": 43,
   "id": "ea5d63e0",
   "metadata": {},
   "outputs": [
    {
     "data": {
      "image/png": "[encoded data removed]",
      "text/plain": [
       "<Figure size 1000x500 with 1 Axes>"
      ]
     },
     "metadata": {
      "needs_background": "light"
     },
     "output_type": "display_data"
    }
   ],
   "source": [
    "spam_len = list(df_spam.misspelled_size.values)\n",
    "ham_len = list(df_ham.misspelled_size.values)\n",
    "\n",
    "bins = np.arange(min(spam_len), max(spam_len), 1)\n",
    "hist, edges = np.histogram(spam_len, bins=bins, density=True)\n",
    "x = (edges[1:] + edges[:-1])/2\n",
    "width = bins[1]-bins[0]\n",
    "\n",
    "fig, ax = plt.subplots(1, figsize=(10,5), dpi=100)\n",
    "ax.bar(x, hist, width=width*0.91, color='lightcoral', label='fraudulent', alpha=0.7)\n",
    "ax.set_ylabel(\"counts\")\n",
    "ax.set_xlabel(\"k\")\n",
    "ax.set_title(\"\")\n",
    "\n",
    "ax.axvline(np.mean(spam_len), c='red', label='$\\mu_{fraudulent}$', linestyle='dashed')\n",
    "ax.axvline(np.mean(ham_len), c='darkblue', label='$\\mu_{genuine}$', linestyle='dashed')\n",
    "\n",
    "bins = np.arange(min(ham_len), max(ham_len), 1)\n",
    "hist, edges = np.histogram(ham_len, bins=bins, density=True)\n",
    "x = (edges[1:] + edges[:-1])/2\n",
    "width = bins[1]-bins[0]\n",
    "ax.bar(x, hist, width=width*0.90, color='lightblue', label='genuine', alpha=0.7)\n",
    "\n",
    "ax.legend()\n",
    "ax.set_ylabel(\"density\")\n",
    "ax.set_xlabel(\"Misspelled words\")\n",
    "ax.set_title(\"Misspelling Distribution\")\n",
    "\n",
    "plt.show()"
   ]
  },
  {
   "cell_type": "code",
   "execution_count": 44,
   "id": "1f19a257",
   "metadata": {},
   "outputs": [
    {
     "name": "stdout",
     "output_type": "stream",
     "text": [
      "Mean of spam: 24.03414258728049\n",
      "Standard deviation of spam: 17.03145553807919\n",
      "\n",
      "Mean of ham: 22.301075268817204\n",
      "Standard deviation of ham: 14.151599790185376\n"
     ]
    }
   ],
   "source": [
    "print(f'Mean of spam: {np.mean(spam_len)}')\n",
    "print(f'Standard deviation of spam: {np.std(spam_len)}')\n",
    "print()\n",
    "print(f'Mean of ham: {np.mean(ham_len)}')\n",
    "print(f'Standard deviation of ham: {np.std(ham_len)}')"
   ]
  },
  {
   "cell_type": "markdown",
   "id": "acdaf65f",
   "metadata": {},
   "source": [
    "## News"
   ]
  },
  {
   "cell_type": "code",
   "execution_count": 45,
   "id": "be2b0e48",
   "metadata": {
    "scrolled": true
   },
   "outputs": [
    {
     "data": {
      "text/html": [
       "<div>\n",
       "<style scoped>\n",
       "    .dataframe tbody tr th:only-of-type {\n",
       "        vertical-align: middle;\n",
       "    }\n",
       "\n",
       "    .dataframe tbody tr th {\n",
       "        vertical-align: top;\n",
       "    }\n",
       "\n",
       "    .dataframe thead th {\n",
       "        text-align: right;\n",
       "    }\n",
       "</style>\n",
       "<table border=\"1\" class=\"dataframe\">\n",
       "  <thead>\n",
       "    <tr style=\"text-align: right;\">\n",
       "      <th></th>\n",
       "      <th>text</th>\n",
       "      <th>label</th>\n",
       "      <th>tokens</th>\n",
       "      <th>str_tokens</th>\n",
       "    </tr>\n",
       "  </thead>\n",
       "  <tbody>\n",
       "    <tr>\n",
       "      <th>0</th>\n",
       "      <td>WASHINGTON (Reuters) - The head of a conservat...</td>\n",
       "      <td>real</td>\n",
       "      <td>[washington, reuter, head, conserv, republican...</td>\n",
       "      <td>washington reuter head conserv republican fact...</td>\n",
       "    </tr>\n",
       "    <tr>\n",
       "      <th>1</th>\n",
       "      <td>WASHINGTON (Reuters) - Transgender people will...</td>\n",
       "      <td>real</td>\n",
       "      <td>[washington, reuter, transgend, peopl, allow, ...</td>\n",
       "      <td>washington reuter transgend peopl allow first ...</td>\n",
       "    </tr>\n",
       "    <tr>\n",
       "      <th>2</th>\n",
       "      <td>WASHINGTON (Reuters) - The special counsel inv...</td>\n",
       "      <td>real</td>\n",
       "      <td>[washington, reuter, special, counsel, investi...</td>\n",
       "      <td>washington reuter special counsel investig lin...</td>\n",
       "    </tr>\n",
       "    <tr>\n",
       "      <th>3</th>\n",
       "      <td>WASHINGTON (Reuters) - Trump campaign adviser ...</td>\n",
       "      <td>real</td>\n",
       "      <td>[washington, reuter, trump, campaign, advis, g...</td>\n",
       "      <td>washington reuter trump campaign advis georg p...</td>\n",
       "    </tr>\n",
       "    <tr>\n",
       "      <th>4</th>\n",
       "      <td>SEATTLE/WASHINGTON (Reuters) - President Donal...</td>\n",
       "      <td>real</td>\n",
       "      <td>[reuter, presid, donald, trump, call, postal, ...</td>\n",
       "      <td>reuter presid donald trump call postal servic ...</td>\n",
       "    </tr>\n",
       "  </tbody>\n",
       "</table>\n",
       "</div>"
      ],
      "text/plain": [
       "                                                text label  \\\n",
       "0  WASHINGTON (Reuters) - The head of a conservat...  real   \n",
       "1  WASHINGTON (Reuters) - Transgender people will...  real   \n",
       "2  WASHINGTON (Reuters) - The special counsel inv...  real   \n",
       "3  WASHINGTON (Reuters) - Trump campaign adviser ...  real   \n",
       "4  SEATTLE/WASHINGTON (Reuters) - President Donal...  real   \n",
       "\n",
       "                                              tokens  \\\n",
       "0  [washington, reuter, head, conserv, republican...   \n",
       "1  [washington, reuter, transgend, peopl, allow, ...   \n",
       "2  [washington, reuter, special, counsel, investi...   \n",
       "3  [washington, reuter, trump, campaign, advis, g...   \n",
       "4  [reuter, presid, donald, trump, call, postal, ...   \n",
       "\n",
       "                                          str_tokens  \n",
       "0  washington reuter head conserv republican fact...  \n",
       "1  washington reuter transgend peopl allow first ...  \n",
       "2  washington reuter special counsel investig lin...  \n",
       "3  washington reuter trump campaign advis georg p...  \n",
       "4  reuter presid donald trump call postal servic ...  "
      ]
     },
     "execution_count": 45,
     "metadata": {},
     "output_type": "execute_result"
    }
   ],
   "source": [
    "df = pd.read_csv('../data/clean/clean_NEWS.csv', encoding= \"ISO-8859-1\")\n",
    "df.tokens = df.tokens.apply(literal_eval)\n",
    "df.head()"
   ]
  },
  {
   "cell_type": "code",
   "execution_count": 46,
   "id": "076c803b",
   "metadata": {},
   "outputs": [],
   "source": [
    "df['len'] = df.tokens.str.len()\n",
    "df_spam = df[df.label=='fake']\n",
    "df_ham = df[df.label=='real']"
   ]
  },
  {
   "cell_type": "code",
   "execution_count": 47,
   "id": "88286d4b",
   "metadata": {},
   "outputs": [
    {
     "data": {
      "image/png": "[encoded data removed]",
      "text/plain": [
       "<Figure size 1000x500 with 1 Axes>"
      ]
     },
     "metadata": {
      "needs_background": "light"
     },
     "output_type": "display_data"
    }
   ],
   "source": [
    "fig, ax = plt.subplots(figsize=(10,5), dpi=100)\n",
    "df.label.value_counts().plot(kind='bar', ax=ax, color=['lightblue', 'lightcoral'])\n",
    "plt.show()"
   ]
  },
  {
   "cell_type": "code",
   "execution_count": 48,
   "id": "1a496a3d",
   "metadata": {},
   "outputs": [
    {
     "data": {
      "image/png": "[encoded data removed]",
      "text/plain": [
       "<Figure size 1000x500 with 1 Axes>"
      ]
     },
     "metadata": {
      "needs_background": "light"
     },
     "output_type": "display_data"
    }
   ],
   "source": [
    "\n",
    "spam_len = list(df_spam.len.values)\n",
    "ham_len = list(df_ham.len.values)\n",
    "\n",
    "bins = np.arange(min(spam_len), max(spam_len), 1)\n",
    "hist, edges = np.histogram(spam_len, bins=bins, density=True)\n",
    "x = (edges[1:] + edges[:-1])/2\n",
    "width = bins[1]-bins[0]\n",
    "\n",
    "fig, ax = plt.subplots(1, figsize=(10,5), dpi=100)\n",
    "ax.bar(x, hist, width=width*0.91, color='lightcoral', label='fake', alpha=0.7)\n",
    "ax.set_ylabel(\"counts\")\n",
    "ax.set_xlabel(\"k\")\n",
    "ax.set_title(\"\")\n",
    "\n",
    "ax.axvline(np.mean(spam_len), c='red', label='$\\mu_{fake}$', linestyle='dashed')\n",
    "ax.axvline(np.mean(ham_len), c='darkblue', label='$\\mu_{real}$', linestyle='dashed')\n",
    "\n",
    "bins = np.arange(min(ham_len), max(ham_len), 1)\n",
    "hist, edges = np.histogram(ham_len, bins=bins, density=True)\n",
    "x = (edges[1:] + edges[:-1])/2\n",
    "width = bins[1]-bins[0]\n",
    "ax.bar(x, hist, width=width*0.90, color='lightblue', label='real', alpha=0.7)\n",
    "\n",
    "ax.legend()\n",
    "ax.set_ylabel(\"density\")\n",
    "ax.set_xlabel(\"length\")\n",
    "ax.set_title(\"Length Distribution of News\") #TODO: maybe change to number of words\n",
    "\n",
    "plt.show()"
   ]
  },
  {
   "cell_type": "code",
   "execution_count": 49,
   "id": "d92fdbab",
   "metadata": {},
   "outputs": [
    {
     "name": "stdout",
     "output_type": "stream",
     "text": [
      "Mean of fake: 220.3180869639283\n",
      "Standard deviation of fake: 219.686330432129\n",
      "\n",
      "Mean of real: 219.0895550263809\n",
      "Standard deviation of real: 153.46726017470965\n"
     ]
    }
   ],
   "source": [
    "print(f'Mean of fake: {np.mean(spam_len)}')\n",
    "print(f'Standard deviation of fake: {np.std(spam_len)}')\n",
    "print()\n",
    "print(f'Mean of real: {np.mean(ham_len)}')\n",
    "print(f'Standard deviation of real: {np.std(ham_len)}')"
   ]
  },
  {
   "cell_type": "code",
   "execution_count": 50,
   "id": "7c8bb330",
   "metadata": {
    "scrolled": false
   },
   "outputs": [
    {
     "name": "stderr",
     "output_type": "stream",
     "text": [
      "100%|██████████| 44898/44898 [54:29<00:00, 13.73it/s]  \n"
     ]
    }
   ],
   "source": [
    "df['misspelled'] = df.progress_apply(lambda row: find_misspelled(row), axis=1)"
   ]
  },
  {
   "cell_type": "code",
   "execution_count": 51,
   "id": "37879f53",
   "metadata": {},
   "outputs": [],
   "source": [
    "df['misspelled_size'] = df['misspelled'].apply(lambda x: len(x))"
   ]
  },
  {
   "cell_type": "code",
   "execution_count": 52,
   "id": "a05e1b0b",
   "metadata": {},
   "outputs": [],
   "source": [
    "df_spam = df[df.label=='fake']\n",
    "df_ham = df[df.label=='real']"
   ]
  },
  {
   "cell_type": "code",
   "execution_count": 53,
   "id": "ce92b8da",
   "metadata": {},
   "outputs": [
    {
     "data": {
      "image/png": "[encoded data removed]",
      "text/plain": [
       "<Figure size 1000x500 with 1 Axes>"
      ]
     },
     "metadata": {
      "needs_background": "light"
     },
     "output_type": "display_data"
    }
   ],
   "source": [
    "spam_len = list(df_spam.misspelled_size.values)\n",
    "ham_len = list(df_ham.misspelled_size.values)\n",
    "\n",
    "bins = np.arange(min(spam_len), max(spam_len), 1)\n",
    "hist, edges = np.histogram(spam_len, bins=bins, density=True)\n",
    "x = (edges[1:] + edges[:-1])/2\n",
    "width = bins[1]-bins[0]\n",
    "\n",
    "fig, ax = plt.subplots(1, figsize=(10,5), dpi=100)\n",
    "ax.bar(x, hist, width=width*0.91, color='lightcoral', label='fake', alpha=0.7)\n",
    "ax.set_ylabel(\"counts\")\n",
    "ax.set_xlabel(\"k\")\n",
    "ax.set_title(\"\")\n",
    "\n",
    "ax.axvline(np.mean(spam_len), c='red', label='$\\mu_{fake}$', linestyle='dashed')\n",
    "ax.axvline(np.mean(ham_len), c='darkblue', label='$\\mu_{real}$', linestyle='dashed')\n",
    "\n",
    "bins = np.arange(min(ham_len), max(ham_len), 1)\n",
    "hist, edges = np.histogram(ham_len, bins=bins, density=True)\n",
    "x = (edges[1:] + edges[:-1])/2\n",
    "width = bins[1]-bins[0]\n",
    "ax.bar(x, hist, width=width*0.90, color='lightblue', label='real', alpha=0.7)\n",
    "\n",
    "ax.legend()\n",
    "ax.set_ylabel(\"density\")\n",
    "ax.set_xlabel(\"Misspelled words\")\n",
    "ax.set_title(\"Misspelling Distribution\")\n",
    "\n",
    "plt.show()"
   ]
  },
  {
   "cell_type": "code",
   "execution_count": 54,
   "id": "9c8a62e1",
   "metadata": {},
   "outputs": [
    {
     "name": "stdout",
     "output_type": "stream",
     "text": [
      "Mean of spam: 19.52680890933095\n",
      "Standard deviation of spam: 19.1290331328607\n",
      "\n",
      "Mean of ham: 17.811598263062052\n",
      "Standard deviation of ham: 13.51344497447919\n"
     ]
    }
   ],
   "source": [
    "print(f'Mean of spam: {np.mean(spam_len)}')\n",
    "print(f'Standard deviation of spam: {np.std(spam_len)}')\n",
    "print()\n",
    "print(f'Mean of ham: {np.mean(ham_len)}')\n",
    "print(f'Standard deviation of ham: {np.std(ham_len)}')"
   ]
  },
  {
   "cell_type": "code",
   "execution_count": null,
   "id": "cd926cb2",
   "metadata": {},
   "outputs": [],
   "source": []
  },
  {
   "cell_type": "code",
   "execution_count": null,
   "id": "b332068c",
   "metadata": {},
   "outputs": [],
   "source": []
  },
  {
   "cell_type": "code",
   "execution_count": null,
   "id": "3acda0a7",
   "metadata": {},
   "outputs": [],
   "source": []
  },
  {
   "cell_type": "code",
   "execution_count": null,
   "id": "ce585cca",
   "metadata": {},
   "outputs": [],
   "source": []
  },
  {
   "cell_type": "code",
   "execution_count": null,
   "id": "43e17724",
   "metadata": {},
   "outputs": [],
   "source": []
  },
  {
   "cell_type": "code",
   "execution_count": null,
   "id": "50a3cbbe",
   "metadata": {},
   "outputs": [],
   "source": []
  },
  {
   "cell_type": "code",
   "execution_count": null,
   "id": "5ff5d5e2",
   "metadata": {},
   "outputs": [],
   "source": []
  },
  {
   "cell_type": "code",
   "execution_count": null,
   "id": "212f4575",
   "metadata": {},
   "outputs": [],
   "source": []
  },
  {
   "cell_type": "code",
   "execution_count": null,
   "id": "cfe501bb",
   "metadata": {},
   "outputs": [],
   "source": []
  },
  {
   "cell_type": "code",
   "execution_count": null,
   "id": "c1218ae5",
   "metadata": {},
   "outputs": [],
   "source": []
  },
  {
   "cell_type": "code",
   "execution_count": null,
   "id": "033a563c",
   "metadata": {},
   "outputs": [],
   "source": []
  },
  {
   "cell_type": "code",
   "execution_count": null,
   "id": "03984671",
   "metadata": {},
   "outputs": [],
   "source": []
  },
  {
   "cell_type": "code",
   "execution_count": null,
   "id": "d536bf2b",
   "metadata": {},
   "outputs": [],
   "source": []
  },
  {
   "cell_type": "code",
   "execution_count": null,
   "id": "37e63e99",
   "metadata": {},
   "outputs": [],
   "source": []
  },
  {
   "cell_type": "code",
   "execution_count": null,
   "id": "5393d1e1",
   "metadata": {},
   "outputs": [],
   "source": []
  },
  {
   "cell_type": "code",
   "execution_count": null,
   "id": "eb5a2bd2",
   "metadata": {},
   "outputs": [],
   "source": []
  },
  {
   "cell_type": "code",
   "execution_count": null,
   "id": "a23b5e9d",
   "metadata": {},
   "outputs": [],
   "source": []
  },
  {
   "cell_type": "code",
   "execution_count": null,
   "id": "6a47300e",
   "metadata": {},
   "outputs": [],
   "source": []
  },
  {
   "cell_type": "code",
   "execution_count": null,
   "id": "8689dcb8",
   "metadata": {},
   "outputs": [],
   "source": []
  },
  {
   "cell_type": "code",
   "execution_count": null,
   "id": "ed08e675",
   "metadata": {},
   "outputs": [],
   "source": []
  },
  {
   "cell_type": "code",
   "execution_count": null,
   "id": "0bd48528",
   "metadata": {},
   "outputs": [],
   "source": []
  },
  {
   "cell_type": "code",
   "execution_count": null,
   "id": "0ff4a8c2",
   "metadata": {},
   "outputs": [],
   "source": []
  },
  {
   "cell_type": "code",
   "execution_count": null,
   "id": "c3159720",
   "metadata": {},
   "outputs": [],
   "source": []
  },
  {
   "cell_type": "code",
   "execution_count": null,
   "id": "e03052df",
   "metadata": {},
   "outputs": [],
   "source": []
  },
  {
   "cell_type": "code",
   "execution_count": null,
   "id": "a52d66fe",
   "metadata": {},
   "outputs": [],
   "source": []
  },
  {
   "cell_type": "code",
   "execution_count": null,
   "id": "5e797739",
   "metadata": {},
   "outputs": [],
   "source": []
  },
  {
   "cell_type": "code",
   "execution_count": null,
   "id": "9da8b9be",
   "metadata": {},
   "outputs": [],
   "source": []
  },
  {
   "cell_type": "code",
   "execution_count": null,
   "id": "1908f240",
   "metadata": {},
   "outputs": [],
   "source": []
  },
  {
   "cell_type": "code",
   "execution_count": null,
   "id": "e1795c54",
   "metadata": {},
   "outputs": [],
   "source": []
  },
  {
   "cell_type": "code",
   "execution_count": null,
   "id": "c0b9ef90",
   "metadata": {},
   "outputs": [],
   "source": []
  },
  {
   "cell_type": "code",
   "execution_count": null,
   "id": "f50140b3",
   "metadata": {},
   "outputs": [],
   "source": []
  },
  {
   "cell_type": "code",
   "execution_count": null,
   "id": "c5485010",
   "metadata": {},
   "outputs": [],
   "source": []
  },
  {
   "cell_type": "code",
   "execution_count": null,
   "id": "240dca32",
   "metadata": {},
   "outputs": [],
   "source": []
  },
  {
   "cell_type": "code",
   "execution_count": null,
   "id": "78129bff",
   "metadata": {},
   "outputs": [],
   "source": []
  },
  {
   "cell_type": "code",
   "execution_count": null,
   "id": "53e33bb0",
   "metadata": {},
   "outputs": [],
   "source": []
  },
  {
   "cell_type": "code",
   "execution_count": null,
   "id": "3de5c60b",
   "metadata": {},
   "outputs": [],
   "source": []
  },
  {
   "cell_type": "code",
   "execution_count": null,
   "id": "9f00b39a",
   "metadata": {},
   "outputs": [],
   "source": []
  },
  {
   "cell_type": "code",
   "execution_count": null,
   "id": "b0aa1802",
   "metadata": {},
   "outputs": [],
   "source": []
  },
  {
   "cell_type": "code",
   "execution_count": null,
   "id": "8db3735b",
   "metadata": {},
   "outputs": [],
   "source": []
  },
  {
   "cell_type": "code",
   "execution_count": null,
   "id": "7f7f933b",
   "metadata": {},
   "outputs": [],
   "source": []
  },
  {
   "cell_type": "code",
   "execution_count": null,
   "id": "a3f21152",
   "metadata": {},
   "outputs": [],
   "source": []
  },
  {
   "cell_type": "code",
   "execution_count": null,
   "id": "b0f8ffa1",
   "metadata": {},
   "outputs": [],
   "source": []
  },
  {
   "cell_type": "code",
   "execution_count": null,
   "id": "b34572c6",
   "metadata": {},
   "outputs": [],
   "source": []
  },
  {
   "cell_type": "code",
   "execution_count": null,
   "id": "7d86da54",
   "metadata": {},
   "outputs": [],
   "source": []
  },
  {
   "cell_type": "code",
   "execution_count": null,
   "id": "cf009ae8",
   "metadata": {},
   "outputs": [],
   "source": []
  },
  {
   "cell_type": "code",
   "execution_count": null,
   "id": "8ccba578",
   "metadata": {},
   "outputs": [],
   "source": []
  },
  {
   "cell_type": "code",
   "execution_count": null,
   "id": "3fe1a118",
   "metadata": {},
   "outputs": [],
   "source": []
  },
  {
   "cell_type": "code",
   "execution_count": null,
   "id": "b193b801",
   "metadata": {},
   "outputs": [],
   "source": []
  }
 ],
 "metadata": {
  "kernelspec": {
   "display_name": "Python 3",
   "language": "python",
   "name": "python3"
  },
  "language_info": {
   "codemirror_mode": {
    "name": "ipython",
    "version": 3
   },
   "file_extension": ".py",
   "mimetype": "text/x-python",
   "name": "python",
   "nbconvert_exporter": "python",
   "pygments_lexer": "ipython3",
   "version": "3.8.7"
  }
 },
 "nbformat": 4,
 "nbformat_minor": 5
}
