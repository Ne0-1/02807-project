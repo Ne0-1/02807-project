{
 "cells": [
  {
   "cell_type": "markdown",
   "id": "31fba003",
   "metadata": {},
   "source": [
    "# Spam detection: Apriori Algorithm together with naive bayes\n",
    "\n",
    "\n",
    "\n"
   ]
  },
  {
   "cell_type": "code",
   "execution_count": 3,
   "id": "258d1b45",
   "metadata": {},
   "outputs": [],
   "source": [
    "# importing modules\n",
    "\n",
    "import pandas as pd\n",
    "import numpy as np\n",
    "import math\n",
    "from sklearn.feature_extraction.text import CountVectorizer\n",
    "from mlxtend.frequent_patterns import apriori\n",
    "from sklearn.model_selection import RepeatedKFold\n",
    "from sklearn.model_selection import KFold \n",
    "from ast import literal_eval\n",
    "from tqdm.notebook import tqdm\n",
    "import mmh3\n",
    "from itertools import product\n",
    "\n",
    "\n",
    "seed = 42"
   ]
  },
  {
   "cell_type": "code",
   "execution_count": 52,
   "id": "f20fb176",
   "metadata": {},
   "outputs": [
    {
     "data": {
      "text/plain": [
       "'/Users/arond.jacobsen/Documents/GitHub/02807-project/src'"
      ]
     },
     "execution_count": 52,
     "metadata": {},
     "output_type": "execute_result"
    }
   ],
   "source": [
    "pwd"
   ]
  },
  {
   "cell_type": "markdown",
   "id": "cea432af",
   "metadata": {},
   "source": [
    "## Formatting dataset"
   ]
  },
  {
   "cell_type": "code",
   "execution_count": 3,
   "id": "1472ff5c",
   "metadata": {
    "scrolled": true
   },
   "outputs": [
    {
     "data": {
      "text/html": [
       "<div>\n",
       "<style scoped>\n",
       "    .dataframe tbody tr th:only-of-type {\n",
       "        vertical-align: middle;\n",
       "    }\n",
       "\n",
       "    .dataframe tbody tr th {\n",
       "        vertical-align: top;\n",
       "    }\n",
       "\n",
       "    .dataframe thead th {\n",
       "        text-align: right;\n",
       "    }\n",
       "</style>\n",
       "<table border=\"1\" class=\"dataframe\">\n",
       "  <thead>\n",
       "    <tr style=\"text-align: right;\">\n",
       "      <th></th>\n",
       "      <th>label</th>\n",
       "      <th>text</th>\n",
       "      <th>tokens</th>\n",
       "    </tr>\n",
       "  </thead>\n",
       "  <tbody>\n",
       "    <tr>\n",
       "      <th>0</th>\n",
       "      <td>ham</td>\n",
       "      <td>Go until jurong point, crazy.. Available only ...</td>\n",
       "      <td>['go', 'jurong', 'point', 'crazi', 'avail', 'b...</td>\n",
       "    </tr>\n",
       "    <tr>\n",
       "      <th>1</th>\n",
       "      <td>ham</td>\n",
       "      <td>Ok lar... Joking wif u oni...</td>\n",
       "      <td>['ok', 'lar', 'joke', 'wif', 'u', 'oni']</td>\n",
       "    </tr>\n",
       "    <tr>\n",
       "      <th>2</th>\n",
       "      <td>spam</td>\n",
       "      <td>Free entry in 2 a wkly comp to win FA Cup fina...</td>\n",
       "      <td>['free', 'entri', 'wkli', 'comp', 'win', 'fa',...</td>\n",
       "    </tr>\n",
       "    <tr>\n",
       "      <th>3</th>\n",
       "      <td>ham</td>\n",
       "      <td>U dun say so early hor... U c already then say...</td>\n",
       "      <td>['u', 'dun', 'say', 'earli', 'hor', 'u', 'c', ...</td>\n",
       "    </tr>\n",
       "    <tr>\n",
       "      <th>4</th>\n",
       "      <td>ham</td>\n",
       "      <td>Nah I don't think he goes to usf, he lives aro...</td>\n",
       "      <td>['nah', 'think', 'goe', 'usf', 'live', 'around...</td>\n",
       "    </tr>\n",
       "  </tbody>\n",
       "</table>\n",
       "</div>"
      ],
      "text/plain": [
       "  label                                               text  \\\n",
       "0   ham  Go until jurong point, crazy.. Available only ...   \n",
       "1   ham                      Ok lar... Joking wif u oni...   \n",
       "2  spam  Free entry in 2 a wkly comp to win FA Cup fina...   \n",
       "3   ham  U dun say so early hor... U c already then say...   \n",
       "4   ham  Nah I don't think he goes to usf, he lives aro...   \n",
       "\n",
       "                                              tokens  \n",
       "0  ['go', 'jurong', 'point', 'crazi', 'avail', 'b...  \n",
       "1           ['ok', 'lar', 'joke', 'wif', 'u', 'oni']  \n",
       "2  ['free', 'entri', 'wkli', 'comp', 'win', 'fa',...  \n",
       "3  ['u', 'dun', 'say', 'earli', 'hor', 'u', 'c', ...  \n",
       "4  ['nah', 'think', 'goe', 'usf', 'live', 'around...  "
      ]
     },
     "execution_count": 3,
     "metadata": {},
     "output_type": "execute_result"
    }
   ],
   "source": [
    "df = pd.read_csv('../data/clean_spam.csv')#,encoding='ISO-8859-1')\n",
    "df.head()"
   ]
  },
  {
   "cell_type": "code",
   "execution_count": 7,
   "id": "d4d6a8b5",
   "metadata": {},
   "outputs": [],
   "source": [
    "\n",
    "# formatting\n",
    "df.tokens = df.tokens.apply(literal_eval)\n",
    "\n"
   ]
  },
  {
   "cell_type": "code",
   "execution_count": 4,
   "id": "f9539940",
   "metadata": {},
   "outputs": [],
   "source": [
    "# create shingle function\n",
    "def shingles(string:str,q:int):\n",
    "    output = set()\n",
    "    for i in range(len(string)+1):\n",
    "        if i < q:\n",
    "            pass\n",
    "        else:\n",
    "            output.add(' '.join(string[i-q:i]))\n",
    "    return output\n",
    "\n",
    "#create listhash function\n",
    "def listhash(l,seeds):\n",
    "    vals = []\n",
    "\n",
    "    for e in l:\n",
    "        val = 0\n",
    "        for seed in seeds:\n",
    "            val = val ^ mmh3.hash(e, seed)\n",
    "        vals.append(str(val))\n",
    "    return vals\n",
    "\n",
    "#create signatures function\n",
    "def signatures(docs, q=9, k=20):\n",
    "    sign = {}\n",
    "    for key, value in docs.items():\n",
    "        sign[key] = listhash(shingles(value,q=q),np.arange(k))\n",
    "    return sign\n",
    "\n",
    "    \n",
    "#create document sim function\n",
    "def similarity(docs:dict):\n",
    "    output = np.zeros((len(docs.keys()),len(docs.keys())))\n",
    "    for key1, value1 in docs.items():\n",
    "        for key2, value2 in docs.items():\n",
    "            if key1 == key2:\n",
    "                pass\n",
    "            else:\n",
    "                jac_value = jaccard(value1,value2)\n",
    "                output[key1,key2] = jac_value\n",
    "    return output\n",
    "            "
   ]
  },
  {
   "cell_type": "code",
   "execution_count": null,
   "id": "3c44e284",
   "metadata": {},
   "outputs": [],
   "source": [
    "#determine q and k\n",
    "q = 5 #number of characters in each shingle\n",
    "k = 20 #number of hashes per shingle\n",
    "\n",
    "\n",
    "#create signatures for emails (we keep count based on index in emails)\n",
    "df_signatures = {df.index[i]: [listhash(shingles(df['text'][i], q=q), np.arange(k))] for i in df.index}\n",
    "\n",
    "df['signatures'] = pd.DataFrame.from_dict(df_signatures, orient='index')\n",
    "\n",
    "# formatting data\n",
    "\n",
    "df.to_csv('../data/SMS.csv', index=False) \n",
    "\n",
    "data = pd.read_csv(f'../data/SMS.csv')\n",
    "data.columns"
   ]
  },
  {
   "cell_type": "code",
   "execution_count": null,
   "id": "78148643",
   "metadata": {},
   "outputs": [],
   "source": []
  },
  {
   "cell_type": "code",
   "execution_count": null,
   "id": "445d794c",
   "metadata": {},
   "outputs": [],
   "source": []
  },
  {
   "cell_type": "markdown",
   "id": "17280c01",
   "metadata": {},
   "source": [
    "## The Apriori Naive Bayes algorithm"
   ]
  },
  {
   "cell_type": "code",
   "execution_count": 26,
   "id": "4bc1edf3",
   "metadata": {},
   "outputs": [],
   "source": [
    "\n",
    "\n",
    "def apriori_for_binary(df, labels, minimum_support, look_up):\n",
    "    word_freq_dict = {}\n",
    "\n",
    "    # CHOOSE support and confidence\n",
    "\n",
    "    #minimum_support = [0.005, 0.03] # for 'ham' and 'spam' respectivly\n",
    "\n",
    "    # looping labels\n",
    "    for idx, y in enumerate(labels):\n",
    "        # filtering\n",
    "        filtered_df = df[df.label == y]\n",
    "        # generating corpus for vectorizer\n",
    "        corpus = []\n",
    "        for row in filtered_df[look_up]:\n",
    "            corpus.append(' '.join(row))\n",
    "        # vectorizing words\n",
    "        vectorizer = CountVectorizer()\n",
    "        X = vectorizer.fit_transform(corpus)\n",
    "        column_values = vectorizer.get_feature_names_out()\n",
    "        # generating dataframe\n",
    "        transformed_df = pd.DataFrame(data = X.toarray(), columns = column_values)\n",
    "        # performing a-priori\n",
    "        word_freqs = apriori(transformed_df.astype(bool), \n",
    "                            min_support=minimum_support[idx], \n",
    "                            use_colnames=True)\n",
    "        word_freqs.itemsets = word_freqs.itemsets.apply(lambda x: set(x)).astype(\"unicode\").apply(literal_eval)\n",
    "\n",
    "        word_freq_dict[y] = word_freqs\n",
    "    # word frequency dictionaries based on apriori for the two labels\n",
    "    return word_freq_dict\n",
    "\n",
    "\n",
    "# using naive bayes\n",
    "def NB_classify(x, word_freq_dict, labels):\n",
    "\n",
    "    #x = df.iloc[2]\n",
    "\n",
    "    # looping labels\n",
    "    output = [0]*len(labels) # output probabilities\n",
    "    \n",
    "    if len(labels) == 2:\n",
    "        combined = list(word_freq_dict[labels[0]].itemsets) + list(word_freq_dict[labels[1]].itemsets)\n",
    "    else:\n",
    "        # not implemented for non-binary\n",
    "        raise NotImplemented\n",
    "    \n",
    "    for idx, y in enumerate(labels):\n",
    "    #for idx, y in enumerate(['ham']):  \n",
    "        #prior = len(df[df.label == y])/len(df)\n",
    "        prior = len(word_freq_dict[y].itemsets)/len(combined)\n",
    "\n",
    "        # prior is added\n",
    "        #prob = np.log(prior)\n",
    "        prob=np.log(prior) \n",
    "\n",
    "        denominator = word_freq_dict[y].support.sum()\n",
    "\n",
    "        # Laplace estimator to avoid the zero\n",
    "        add = len(combined)\n",
    "\n",
    "        #for (index, word_freq) in word_freq_dict[y].iterrows():\n",
    "        # looping each wordset\n",
    "        for word_set in combined:\n",
    "            # if word set is a subset all the supported\n",
    "            if set(word_set).issubset(x):\n",
    "                # if word set not supported for current label\n",
    "                if word_set not in list(word_freq_dict[y].itemsets):\n",
    "                    # not squared to make it a negative contribution\n",
    "                    prob += np.log(1/ (denominator + add) ) # itemset not found, laplace\n",
    "                # supported by current label\n",
    "                else:\n",
    "                    row = word_freq_dict[y].loc[word_freq_dict[y]['itemsets'] == word_set]\n",
    "                    prob += np.log( ( (float(row.support)+1) / (denominator + add) ) )\n",
    "        output[idx] = prob\n",
    "    \n",
    "    prediction = labels[np.argmax(output)]\n",
    "    # predicted label\n",
    "    return prediction\n",
    "\n",
    "\n",
    "\n",
    "\n",
    "# Complete algorithm\n",
    "\n",
    "def apriori_NB(train, test, method, hparams):\n",
    "    \n",
    "    if method == 'terms':\n",
    "        look_up = 'signatures'\n",
    "    elif method == 'shingles':\n",
    "        look_up = 'tokens'\n",
    "        \n",
    "    minimum_support = list(hparams)\n",
    "    \n",
    "    # hyperparameters\n",
    "    labels = list(np.unique(train.label)) # currently repeated\n",
    "    \n",
    "    word_freq_dict =  apriori_for_binary(train, labels, minimum_support, look_up)\n",
    "    \n",
    "    \n",
    "    # check size of sets based om support values\n",
    "    print(f'{minimum_support}: [{len(word_freq_dict[labels[0]])},{len(word_freq_dict[labels[1]])}]')\n",
    "    \n",
    "    # classifying using the naive bayes\n",
    "    correct = 0\n",
    "    for idx, x in test.iterrows():\n",
    "        # by x.tokens we remove the 'label' data\n",
    "        pred = NB_classify(x[look_up], word_freq_dict, labels)\n",
    "        \n",
    "        correct += int(pred==x.label)\n",
    "    \n",
    "    accuracy = correct / (len(test))\n",
    "    \n",
    "    # TODO: f1_score\n",
    "    \n",
    "    return accuracy"
   ]
  },
  {
   "cell_type": "code",
   "execution_count": null,
   "id": "e87f6a7b",
   "metadata": {},
   "outputs": [],
   "source": []
  },
  {
   "cell_type": "code",
   "execution_count": null,
   "id": "5dd182cb",
   "metadata": {},
   "outputs": [],
   "source": []
  },
  {
   "cell_type": "markdown",
   "id": "e8991fec",
   "metadata": {},
   "source": [
    "## Training functions"
   ]
  },
  {
   "cell_type": "code",
   "execution_count": 30,
   "id": "817d258b",
   "metadata": {},
   "outputs": [],
   "source": [
    "\n",
    "# the two level cross validation\n",
    "\n",
    "def two_level_cv(data, algorithm, method, combinations, seed, outer_folds, inner_folds):\n",
    "    # creating splits\n",
    "    outer_kf = RepeatedKFold(n_splits=outer_folds, n_repeats=1, random_state=seed) \n",
    "    inner_kf = RepeatedKFold(n_splits=inner_folds, n_repeats=1, random_state=seed) \n",
    "\n",
    "    outer_performance = []\n",
    "    outer_hparams = []\n",
    "    \n",
    "    # outer loop\n",
    "    print('outer loop')\n",
    "    for outer_train_idx, outer_test_idx in tqdm(outer_kf.split(data)):\n",
    "        df_outer_train = data.loc[outer_train_idx]\n",
    "        df_outer_test = data.loc[outer_test_idx]\n",
    "        \n",
    "        # inner loop\n",
    "        # saving performance per hyperparameter combination and fold\n",
    "        inner_performance = np.zeros([len(combinations), inner_folds])\n",
    "        inner_fold = 0\n",
    "        \n",
    "        inner_data = df_outer_train.reset_index(drop=True)\n",
    "        print('inner loop')\n",
    "        for inner_train_idx, inner_test_idx in tqdm(inner_kf.split(inner_data)):\n",
    "            df_inner_train = inner_data.loc[inner_train_idx]\n",
    "            df_inner_test = inner_data.loc[inner_test_idx]\n",
    "            # looping each \n",
    "            for idx, hparams in enumerate(combinations):\n",
    "                out = algorithm(train = df_inner_train, test=df_inner_test, \n",
    "                                method = method, hparams = hparams)\n",
    "                # saving performance\n",
    "                inner_performance[idx, inner_fold] = out\n",
    "            \n",
    "            inner_fold += 1\n",
    "        best_hparams_idx = np.argmax(inner_performance.mean(axis=1))\n",
    "        best_hparams = combinations[best_hparams_idx]\n",
    "        outer_hparams.append(best_hparams)\n",
    "        # evaluating on outer loop with best performing parameters\n",
    "        out = algorithm(train = df_outer_train, test=df_outer_test, \n",
    "                        method = method, hparams = best_hparams)\n",
    "        \n",
    "        outer_performance.append(out)\n",
    "        \n",
    "    return (outer_performance, outer_hparams)\n"
   ]
  },
  {
   "cell_type": "markdown",
   "id": "307aa87d",
   "metadata": {},
   "source": [
    "## Running commands"
   ]
  },
  {
   "cell_type": "code",
   "execution_count": 31,
   "id": "81676b04",
   "metadata": {},
   "outputs": [],
   "source": [
    "\n",
    "# algorithm -> dataset -> method -> hparams\n",
    "#    - NOTE: hparams must have the correct order as their input in algorithm\n",
    "run_commands = {\n",
    "    # dataset\n",
    "    'aprioir_NB': \n",
    "        # algorithm\n",
    "        {'SMS': \n",
    "             # method\n",
    "             {'terms': \n",
    "                  # hparams\n",
    "                  {'min_supp_ham': np.linspace(0.02, 0.03, 2),\n",
    "                   'min_supp_spam': np.linspace(0.06, 0.07, 2)\n",
    "                  },\n",
    "              # method\n",
    "             'shingles': \n",
    "                  # hparams\n",
    "                  {'min_supp_ham': np.linspace(0.015, 0.035, 2),\n",
    "                   'min_supp_spam': np.linspace(0.06, 0.08, 2)\n",
    "                  }\n",
    "             }\n",
    "                           \n",
    "        }\n",
    "    \n",
    "}\n",
    "\n",
    "\n",
    "algo_dict =  {'aprioir_NB': apriori_NB}\n",
    "\n"
   ]
  },
  {
   "cell_type": "markdown",
   "id": "f9f55dd7",
   "metadata": {},
   "source": [
    "## Hyperparameter grid search"
   ]
  },
  {
   "cell_type": "code",
   "execution_count": 32,
   "id": "2178c9d1",
   "metadata": {
    "collapsed": true
   },
   "outputs": [
    {
     "name": "stdout",
     "output_type": "stream",
     "text": [
      "aprioir_NB\n",
      "SMS\n",
      "terms\n",
      "outer loop\n"
     ]
    },
    {
     "data": {
      "application/vnd.jupyter.widget-view+json": {
       "model_id": "cdb82a7d6aa84563b3157a1c7c1c8a37",
       "version_major": 2,
       "version_minor": 0
      },
      "text/plain": [
       "0it [00:00, ?it/s]"
      ]
     },
     "metadata": {},
     "output_type": "display_data"
    },
    {
     "name": "stdout",
     "output_type": "stream",
     "text": [
      "inner loop\n"
     ]
    },
    {
     "data": {
      "application/vnd.jupyter.widget-view+json": {
       "model_id": "914c6954f4b9480486a331ed89e1d8c0",
       "version_major": 2,
       "version_minor": 0
      },
      "text/plain": [
       "0it [00:00, ?it/s]"
      ]
     },
     "metadata": {},
     "output_type": "display_data"
    },
    {
     "name": "stdout",
     "output_type": "stream",
     "text": [
      "[0.02, 0.06]: [710,916]\n",
      "[0.02, 0.07]: [710,364]\n",
      "[0.03, 0.06]: [251,916]\n",
      "[0.03, 0.07]: [251,364]\n",
      "[0.02, 0.06]: [816,715]\n",
      "[0.02, 0.07]: [816,346]\n",
      "[0.03, 0.06]: [447,715]\n",
      "[0.03, 0.07]: [447,346]\n",
      "[0.02, 0.07]: [811,223]\n",
      "inner loop\n"
     ]
    },
    {
     "data": {
      "application/vnd.jupyter.widget-view+json": {
       "model_id": "32e04ec44f5345578da75cb85c7e6898",
       "version_major": 2,
       "version_minor": 0
      },
      "text/plain": [
       "0it [00:00, ?it/s]"
      ]
     },
     "metadata": {},
     "output_type": "display_data"
    },
    {
     "name": "stdout",
     "output_type": "stream",
     "text": [
      "[0.02, 0.06]: [684,957]\n",
      "[0.02, 0.07]: [684,457]\n",
      "[0.03, 0.06]: [382,957]\n",
      "[0.03, 0.07]: [382,457]\n",
      "[0.02, 0.06]: [793,1125]\n",
      "[0.02, 0.07]: [793,518]\n",
      "[0.03, 0.06]: [381,1125]\n",
      "[0.03, 0.07]: [381,518]\n",
      "[0.02, 0.07]: [708,303]\n",
      "0.895010768126346\n",
      "shingles\n",
      "outer loop\n"
     ]
    },
    {
     "data": {
      "application/vnd.jupyter.widget-view+json": {
       "model_id": "42c89c34bf9d4bd1a9561796b4e1fef3",
       "version_major": 2,
       "version_minor": 0
      },
      "text/plain": [
       "0it [00:00, ?it/s]"
      ]
     },
     "metadata": {},
     "output_type": "display_data"
    },
    {
     "name": "stdout",
     "output_type": "stream",
     "text": [
      "inner loop\n"
     ]
    },
    {
     "data": {
      "application/vnd.jupyter.widget-view+json": {
       "model_id": "385db1b240304ca68b64b0f4b6cae0ca",
       "version_major": 2,
       "version_minor": 0
      },
      "text/plain": [
       "0it [00:00, ?it/s]"
      ]
     },
     "metadata": {},
     "output_type": "display_data"
    },
    {
     "name": "stdout",
     "output_type": "stream",
     "text": [
      "[0.015, 0.06]: [83,35]\n",
      "[0.015, 0.08]: [83,18]\n",
      "[0.035, 0.06]: [20,35]\n",
      "[0.035, 0.08]: [20,18]\n",
      "[0.015, 0.06]: [76,50]\n",
      "[0.015, 0.08]: [76,26]\n",
      "[0.035, 0.06]: [20,50]\n",
      "[0.035, 0.08]: [20,26]\n",
      "[0.015, 0.06]: [80,37]\n",
      "inner loop\n"
     ]
    },
    {
     "data": {
      "application/vnd.jupyter.widget-view+json": {
       "model_id": "eaeb6feab92242baa3a1897b338a89ac",
       "version_major": 2,
       "version_minor": 0
      },
      "text/plain": [
       "0it [00:00, ?it/s]"
      ]
     },
     "metadata": {},
     "output_type": "display_data"
    },
    {
     "name": "stdout",
     "output_type": "stream",
     "text": [
      "[0.015, 0.06]: [74,40]\n",
      "[0.015, 0.08]: [74,29]\n",
      "[0.035, 0.06]: [19,40]\n",
      "[0.035, 0.08]: [19,29]\n",
      "[0.015, 0.06]: [87,60]\n",
      "[0.015, 0.08]: [87,31]\n",
      "[0.035, 0.06]: [17,60]\n",
      "[0.035, 0.08]: [17,31]\n",
      "[0.015, 0.06]: [78,46]\n",
      "0.9100861450107681\n"
     ]
    }
   ],
   "source": [
    "\n",
    "results = {}\n",
    "\n",
    "# two-level CV\n",
    "outer_folds = 2\n",
    "inner_folds = 2\n",
    "\n",
    "seed = 42\n",
    "\n",
    "\n",
    "for algorithm in run_commands.keys():\n",
    "    results[algorithm] = {}\n",
    "    print(algorithm)\n",
    "    for dataset in run_commands[algorithm].keys():\n",
    "        print(dataset)\n",
    "        results[algorithm][dataset] = {}\n",
    "                \n",
    "        # loading dataset\n",
    "        data = pd.read_csv(f'../data/{dataset}.csv')\n",
    "        data.tokens = data.tokens.apply(literal_eval)\n",
    "        data.signatures = data.signatures.apply(literal_eval)\n",
    "        # i.e. terms or shingles\n",
    "        for method in run_commands[algorithm][dataset].keys():\n",
    "            print(method)\n",
    "            results[algorithm][dataset][method] = {}\n",
    "            \n",
    "            # list of all hparams\n",
    "            hparams = []\n",
    "            for param in run_commands[algorithm][dataset][method].values():\n",
    "                hparams.append(list(param))\n",
    "            # running combination of hparams\n",
    "            combinations = list(product(*hparams))\n",
    "            \n",
    "            \n",
    "            output = two_level_cv(data = data,\n",
    "                                  algorithm = algo_dict[algorithm],\n",
    "                                  method = method,\n",
    "                                  combinations=combinations,\n",
    "                                  seed=seed,\n",
    "                                  outer_folds = outer_folds,\n",
    "                                  inner_folds = inner_folds)\n",
    "            outer_performance, outper_hparams = output\n",
    "            \n",
    "            # saving results\n",
    "            results[algorithm][dataset][method]['performance'] = outer_performance\n",
    "            results[algorithm][dataset][method]['hparams'] = outper_hparams\n",
    "            \n",
    "            print(np.mean(outer_performance))\n",
    "        \n",
    "        # open and save results to a file here iteratively\n",
    "        # i.e. after finishing a dataset\n",
    "\n",
    "\n",
    "            "
   ]
  },
  {
   "cell_type": "code",
   "execution_count": 33,
   "id": "33e59b87",
   "metadata": {},
   "outputs": [
    {
     "data": {
      "text/plain": [
       "{'SMS': {'terms': {'performance': [0.9048815506101938, 0.8851399856424982],\n",
       "   'hparams': [(0.02, 0.07), (0.02, 0.07)]},\n",
       "  'shingles': {'performance': [0.9055994256999282, 0.914572864321608],\n",
       "   'hparams': [(0.015, 0.06), (0.015, 0.06)]}}}"
      ]
     },
     "execution_count": 33,
     "metadata": {},
     "output_type": "execute_result"
    }
   ],
   "source": [
    "results[algorithm]"
   ]
  },
  {
   "cell_type": "markdown",
   "id": "746e69bb",
   "metadata": {},
   "source": []
  },
  {
   "cell_type": "code",
   "execution_count": null,
   "id": "8b059816",
   "metadata": {},
   "outputs": [],
   "source": []
  },
  {
   "cell_type": "code",
   "execution_count": null,
   "id": "7bc9ec6e",
   "metadata": {},
   "outputs": [],
   "source": []
  },
  {
   "cell_type": "markdown",
   "id": "e5b9c4e6",
   "metadata": {},
   "source": [
    "## Other: testing training functions and hyperparameters"
   ]
  },
  {
   "cell_type": "markdown",
   "id": "1094d1c7",
   "metadata": {},
   "source": [
    "### terms"
   ]
  },
  {
   "cell_type": "code",
   "execution_count": null,
   "id": "0418602a",
   "metadata": {},
   "outputs": [],
   "source": [
    "\n",
    "# terms\n",
    "\n",
    "# 20 % test\n",
    "kf = RepeatedKFold(n_splits=5, n_repeats=1, random_state=seed) \n",
    "\n",
    "# hyperparameters\n",
    "labels = list(np.unique(df.label)) # currently repeated\n",
    "\n",
    "minimum_support = [0.005, 0.03]\n",
    "\n",
    "scores = [] # to store accuracies\n",
    "\n",
    "for train_index, test_index in tqdm(kf.split(df)):\n",
    "    #X_train, X_test = df.tokens[train_index], df.tokens[test_index] \n",
    "    #y_train, y_test = df.label[train_index], df.label[test_index]\n",
    "    #pd.concat([X_train, y_train],axis=1)\n",
    "    \n",
    "    df_train = df.loc[train_index]\n",
    "    \n",
    "    df_test = df.loc[test_index]\n",
    "    \n",
    "    # training?\n",
    "    word_freq_dict =  apriori_for_binary(df_train, labels, minimum_support, 'tokens')\n",
    "    \n",
    "    #for \n",
    "    # classifying using the naive bayes\n",
    "    correct = 0\n",
    "    for idx, x in df_test.iterrows():\n",
    "        # by x.tokens we remove the 'label' data\n",
    "        pred = NB_classify(x.tokens, word_freq_dict, labels)\n",
    "        correct += int(pred==x.label)\n",
    "    \n",
    "    scores.append(correct / (len(df_test)))\n",
    "\n",
    "print(scores)"
   ]
  },
  {
   "cell_type": "markdown",
   "id": "c2060d8e",
   "metadata": {},
   "source": [
    "### shingles"
   ]
  },
  {
   "cell_type": "code",
   "execution_count": null,
   "id": "bf3bbcfc",
   "metadata": {},
   "outputs": [],
   "source": [
    "# SHINGLES\n",
    "\n",
    "\n",
    "# 20 % test\n",
    "kf = RepeatedKFold(n_splits=5, n_repeats=1, random_state=seed) \n",
    "\n",
    "# hyperparameters\n",
    "labels = list(np.unique(df.label)) # currently repeated\n",
    "\n",
    "minimum_support = [0.025, 0.07] # for ham and spam respectivly\n",
    "\n",
    "scores = [] # to store accuracies\n",
    "\n",
    "for train_index, test_index in tqdm(kf.split(df)):\n",
    "    \n",
    "    df_train = df.loc[train_index]\n",
    "    \n",
    "    df_test = df.loc[test_index]\n",
    "    \n",
    "    # training?\n",
    "    word_freq_dict =  apriori_for_binary(df_train, labels, minimum_support, 'signatures')\n",
    "    \n",
    "    #for \n",
    "    # classifying using the naive bayes\n",
    "    correct = 0\n",
    "    for idx, x in df_test.iterrows():\n",
    "        # by x.tokens we remove the 'label' data\n",
    "        pred = NB_classify(x.signatures, word_freq_dict, labels)\n",
    "        \n",
    "        correct += int(pred==x.label)\n",
    "    \n",
    "    scores.append(correct / (len(df_test)))\n",
    "\n",
    "print(scores)\n",
    "\n",
    "\n"
   ]
  },
  {
   "cell_type": "code",
   "execution_count": null,
   "id": "b3fe762e",
   "metadata": {},
   "outputs": [],
   "source": []
  }
 ],
 "metadata": {
  "kernelspec": {
   "display_name": "Python 3 (ipykernel)",
   "language": "python",
   "name": "python3"
  },
  "language_info": {
   "codemirror_mode": {
    "name": "ipython",
    "version": 3
   },
   "file_extension": ".py",
   "mimetype": "text/x-python",
   "name": "python",
   "nbconvert_exporter": "python",
   "pygments_lexer": "ipython3",
   "version": "3.8.12"
  }
 },
 "nbformat": 4,
 "nbformat_minor": 5
}
