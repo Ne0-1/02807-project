{
 "cells": [
  {
   "cell_type": "code",
   "execution_count": 1,
   "id": "a8c304a8",
   "metadata": {},
   "outputs": [
    {
     "data": {
      "text/plain": [
       "'3.6.2'"
      ]
     },
     "execution_count": 1,
     "metadata": {},
     "output_type": "execute_result"
    }
   ],
   "source": [
    "import matplotlib as mpl\n",
    "mpl.__version__"
   ]
  },
  {
   "cell_type": "code",
   "execution_count": 5,
   "id": "1d24d39e",
   "metadata": {},
   "outputs": [],
   "source": [
    "import matplotlib.pyplot as plt \n",
    "import matplotlib as mpl\n",
    "import pandas as pd"
   ]
  },
  {
   "cell_type": "code",
   "execution_count": 6,
   "id": "63ce6303",
   "metadata": {},
   "outputs": [],
   "source": [
    "def setup_mpl():\n",
    "    mpl.rcParams['font.family'] = 'Times New Roman'\n",
    "    return\n",
    "setup_mpl()"
   ]
  },
  {
   "cell_type": "code",
   "execution_count": 7,
   "id": "196f7900",
   "metadata": {},
   "outputs": [],
   "source": [
    "from ast import literal_eval\n",
    "\n",
    "datasets = ['clean_spam.csv', 'clean_completeSpamAssassin.csv', 'clean_Job_postings.csv', 'clean_NEWS.csv']\n",
    "\n",
    "dfs = {'clean_spam.csv': {'data': [], 'spam': [], 'ham': [], 'type': 'SMS'},\n",
    "       'clean_completeSpamAssassin.csv': {'data': [], 'spam': [], 'ham': [], 'type': 'E-mail'},\n",
    "       'clean_Job_postings.csv': {'data': [], 'fraudulent': [], 'genuine': [], 'type': 'Job postings'},\n",
    "       'clean_NEWS.csv': {'data': [], 'fake': [], 'real': [], 'type': 'News'}}\n",
    "\n",
    "for dataset in datasets:\n",
    "    \n",
    "    # read data\n",
    "    df = pd.read_csv('../data/clean/' + dataset, encoding= \"ISO-8859-1\")\n",
    "\n",
    "    df.tokens = df.tokens.apply(literal_eval)\n",
    "    df['len'] = df.tokens.str.len()\n",
    "    \n",
    "    # Saving data, and the classes into dictionary\n",
    "    dfs[dataset]['data'] = df\n",
    "    dfs[dataset][list(dfs[dataset].keys())[1]] = df[df.label==list(dfs[dataset].keys())[1]]\n",
    "    dfs[dataset][list(dfs[dataset].keys())[2]] = df[df.label==list(dfs[dataset].keys())[2]]"
   ]
  },
  {
   "cell_type": "code",
   "execution_count": 81,
   "id": "b2dcd7dc",
   "metadata": {},
   "outputs": [
    {
     "data": {
      "image/png": "[encoded data removed]",
      "text/plain": [
       "<Figure size 1000x500 with 1 Axes>"
      ]
     },
     "metadata": {
      "needs_background": "light"
     },
     "output_type": "display_data"
    }
   ],
   "source": [
    "total = []\n",
    "spam_counts = []\n",
    "ham_counts = []\n",
    "for i in range(3):\n",
    "    total.append(dfs[datasets[i]]['data'].label.value_counts()[0] + dfs[datasets[i]]['data'].label.value_counts()[1])\n",
    "    spam_counts.append(dfs[datasets[i]]['data'].label.value_counts()[0])\n",
    "    ham_counts.append(dfs[datasets[i]]['data'].label.value_counts()[1])    \n",
    "    \n",
    "from matplotlib.pyplot import figure\n",
    "\n",
    "# figure(figsize=(20, 10), dpi=100)\n",
    "plt.rcParams[\"figure.figsize\"] = [10,5]\n",
    "plt.rcParams[\"figure.dpi\"] = 100\n",
    "\n",
    "\n",
    "index = ['SMS', 'Email', 'Job postings']\n",
    "df = pd.DataFrame({'spam': spam_counts, 'ham': ham_counts}, index=index)\n",
    "ax = df.plot.bar(rot=0, color=['lightblue', 'lightcoral'])\n",
    "       \n",
    "for i, p in enumerate(ax.patches):\n",
    "    percentage = '{:.1f}%'.format(100 * p.get_height()/total[i%3])\n",
    "    x = p.get_x() + p.get_width() / 10\n",
    "    y = p.get_y() + p.get_height() + 125\n",
    "    ax.annotate(percentage, (x, y), fontsize = 15)    \n",
    "\n",
    "\n"
   ]
  },
  {
   "cell_type": "code",
   "execution_count": 40,
   "id": "17e4a3e8",
   "metadata": {},
   "outputs": [
    {
     "data": {
      "text/plain": [
       "[4805, 3952, 14293]"
      ]
     },
     "execution_count": 40,
     "metadata": {},
     "output_type": "execute_result"
    }
   ],
   "source": [
    "spam_counts"
   ]
  },
  {
   "cell_type": "code",
   "execution_count": 44,
   "id": "673b04d7",
   "metadata": {},
   "outputs": [
    {
     "data": {
      "text/plain": [
       "[5551, 5551, 5507, 5507, 14572, 14572]"
      ]
     },
     "execution_count": 44,
     "metadata": {},
     "output_type": "execute_result"
    }
   ],
   "source": [
    "total"
   ]
  },
  {
   "cell_type": "code",
   "execution_count": null,
   "id": "ad03b2c5",
   "metadata": {},
   "outputs": [],
   "source": []
  }
 ],
 "metadata": {
  "kernelspec": {
   "display_name": "Python 3",
   "language": "python",
   "name": "python3"
  },
  "language_info": {
   "codemirror_mode": {
    "name": "ipython",
    "version": 3
   },
   "file_extension": ".py",
   "mimetype": "text/x-python",
   "name": "python",
   "nbconvert_exporter": "python",
   "pygments_lexer": "ipython3",
   "version": "3.8.7"
  }
 },
 "nbformat": 4,
 "nbformat_minor": 5
}
